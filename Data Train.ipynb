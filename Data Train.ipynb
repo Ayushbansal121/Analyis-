{
 "cells": [
  {
   "cell_type": "code",
   "execution_count": 1,
   "id": "a54e9bfc",
   "metadata": {},
   "outputs": [
    {
     "data": {
      "text/html": [
       "<div>\n",
       "<style scoped>\n",
       "    .dataframe tbody tr th:only-of-type {\n",
       "        vertical-align: middle;\n",
       "    }\n",
       "\n",
       "    .dataframe tbody tr th {\n",
       "        vertical-align: top;\n",
       "    }\n",
       "\n",
       "    .dataframe thead th {\n",
       "        text-align: right;\n",
       "    }\n",
       "</style>\n",
       "<table border=\"1\" class=\"dataframe\">\n",
       "  <thead>\n",
       "    <tr style=\"text-align: right;\">\n",
       "      <th></th>\n",
       "      <th>Airline</th>\n",
       "      <th>Date_of_Journey</th>\n",
       "      <th>Source</th>\n",
       "      <th>Destination</th>\n",
       "      <th>Route</th>\n",
       "      <th>Dep_Time</th>\n",
       "      <th>Arrival_Time</th>\n",
       "      <th>Duration</th>\n",
       "      <th>Total_Stops</th>\n",
       "      <th>Additional_Info</th>\n",
       "      <th>Price</th>\n",
       "    </tr>\n",
       "  </thead>\n",
       "  <tbody>\n",
       "    <tr>\n",
       "      <th>0</th>\n",
       "      <td>IndiGo</td>\n",
       "      <td>24/03/2019</td>\n",
       "      <td>Banglore</td>\n",
       "      <td>New Delhi</td>\n",
       "      <td>BLR → DEL</td>\n",
       "      <td>22:20</td>\n",
       "      <td>01:10 22 Mar</td>\n",
       "      <td>2h 50m</td>\n",
       "      <td>non-stop</td>\n",
       "      <td>No info</td>\n",
       "      <td>3897</td>\n",
       "    </tr>\n",
       "    <tr>\n",
       "      <th>1</th>\n",
       "      <td>Air India</td>\n",
       "      <td>1/05/2019</td>\n",
       "      <td>Kolkata</td>\n",
       "      <td>Banglore</td>\n",
       "      <td>CCU → IXR → BBI → BLR</td>\n",
       "      <td>05:50</td>\n",
       "      <td>13:15</td>\n",
       "      <td>7h 25m</td>\n",
       "      <td>2 stops</td>\n",
       "      <td>No info</td>\n",
       "      <td>7662</td>\n",
       "    </tr>\n",
       "    <tr>\n",
       "      <th>2</th>\n",
       "      <td>Jet Airways</td>\n",
       "      <td>9/06/2019</td>\n",
       "      <td>Delhi</td>\n",
       "      <td>Cochin</td>\n",
       "      <td>DEL → LKO → BOM → COK</td>\n",
       "      <td>09:25</td>\n",
       "      <td>04:25 10 Jun</td>\n",
       "      <td>19h</td>\n",
       "      <td>2 stops</td>\n",
       "      <td>No info</td>\n",
       "      <td>13882</td>\n",
       "    </tr>\n",
       "    <tr>\n",
       "      <th>3</th>\n",
       "      <td>IndiGo</td>\n",
       "      <td>12/05/2019</td>\n",
       "      <td>Kolkata</td>\n",
       "      <td>Banglore</td>\n",
       "      <td>CCU → NAG → BLR</td>\n",
       "      <td>18:05</td>\n",
       "      <td>23:30</td>\n",
       "      <td>5h 25m</td>\n",
       "      <td>1 stop</td>\n",
       "      <td>No info</td>\n",
       "      <td>6218</td>\n",
       "    </tr>\n",
       "    <tr>\n",
       "      <th>4</th>\n",
       "      <td>IndiGo</td>\n",
       "      <td>01/03/2019</td>\n",
       "      <td>Banglore</td>\n",
       "      <td>New Delhi</td>\n",
       "      <td>BLR → NAG → DEL</td>\n",
       "      <td>16:50</td>\n",
       "      <td>21:35</td>\n",
       "      <td>4h 45m</td>\n",
       "      <td>1 stop</td>\n",
       "      <td>No info</td>\n",
       "      <td>13302</td>\n",
       "    </tr>\n",
       "    <tr>\n",
       "      <th>...</th>\n",
       "      <td>...</td>\n",
       "      <td>...</td>\n",
       "      <td>...</td>\n",
       "      <td>...</td>\n",
       "      <td>...</td>\n",
       "      <td>...</td>\n",
       "      <td>...</td>\n",
       "      <td>...</td>\n",
       "      <td>...</td>\n",
       "      <td>...</td>\n",
       "      <td>...</td>\n",
       "    </tr>\n",
       "    <tr>\n",
       "      <th>10678</th>\n",
       "      <td>Air Asia</td>\n",
       "      <td>9/04/2019</td>\n",
       "      <td>Kolkata</td>\n",
       "      <td>Banglore</td>\n",
       "      <td>CCU → BLR</td>\n",
       "      <td>19:55</td>\n",
       "      <td>22:25</td>\n",
       "      <td>2h 30m</td>\n",
       "      <td>non-stop</td>\n",
       "      <td>No info</td>\n",
       "      <td>4107</td>\n",
       "    </tr>\n",
       "    <tr>\n",
       "      <th>10679</th>\n",
       "      <td>Air India</td>\n",
       "      <td>27/04/2019</td>\n",
       "      <td>Kolkata</td>\n",
       "      <td>Banglore</td>\n",
       "      <td>CCU → BLR</td>\n",
       "      <td>20:45</td>\n",
       "      <td>23:20</td>\n",
       "      <td>2h 35m</td>\n",
       "      <td>non-stop</td>\n",
       "      <td>No info</td>\n",
       "      <td>4145</td>\n",
       "    </tr>\n",
       "    <tr>\n",
       "      <th>10680</th>\n",
       "      <td>Jet Airways</td>\n",
       "      <td>27/04/2019</td>\n",
       "      <td>Banglore</td>\n",
       "      <td>Delhi</td>\n",
       "      <td>BLR → DEL</td>\n",
       "      <td>08:20</td>\n",
       "      <td>11:20</td>\n",
       "      <td>3h</td>\n",
       "      <td>non-stop</td>\n",
       "      <td>No info</td>\n",
       "      <td>7229</td>\n",
       "    </tr>\n",
       "    <tr>\n",
       "      <th>10681</th>\n",
       "      <td>Vistara</td>\n",
       "      <td>01/03/2019</td>\n",
       "      <td>Banglore</td>\n",
       "      <td>New Delhi</td>\n",
       "      <td>BLR → DEL</td>\n",
       "      <td>11:30</td>\n",
       "      <td>14:10</td>\n",
       "      <td>2h 40m</td>\n",
       "      <td>non-stop</td>\n",
       "      <td>No info</td>\n",
       "      <td>12648</td>\n",
       "    </tr>\n",
       "    <tr>\n",
       "      <th>10682</th>\n",
       "      <td>Air India</td>\n",
       "      <td>9/05/2019</td>\n",
       "      <td>Delhi</td>\n",
       "      <td>Cochin</td>\n",
       "      <td>DEL → GOI → BOM → COK</td>\n",
       "      <td>10:55</td>\n",
       "      <td>19:15</td>\n",
       "      <td>8h 20m</td>\n",
       "      <td>2 stops</td>\n",
       "      <td>No info</td>\n",
       "      <td>11753</td>\n",
       "    </tr>\n",
       "  </tbody>\n",
       "</table>\n",
       "<p>10683 rows × 11 columns</p>\n",
       "</div>"
      ],
      "text/plain": [
       "           Airline Date_of_Journey    Source Destination  \\\n",
       "0           IndiGo      24/03/2019  Banglore   New Delhi   \n",
       "1        Air India       1/05/2019   Kolkata    Banglore   \n",
       "2      Jet Airways       9/06/2019     Delhi      Cochin   \n",
       "3           IndiGo      12/05/2019   Kolkata    Banglore   \n",
       "4           IndiGo      01/03/2019  Banglore   New Delhi   \n",
       "...            ...             ...       ...         ...   \n",
       "10678     Air Asia       9/04/2019   Kolkata    Banglore   \n",
       "10679    Air India      27/04/2019   Kolkata    Banglore   \n",
       "10680  Jet Airways      27/04/2019  Banglore       Delhi   \n",
       "10681      Vistara      01/03/2019  Banglore   New Delhi   \n",
       "10682    Air India       9/05/2019     Delhi      Cochin   \n",
       "\n",
       "                       Route Dep_Time  Arrival_Time Duration Total_Stops  \\\n",
       "0                  BLR → DEL    22:20  01:10 22 Mar   2h 50m    non-stop   \n",
       "1      CCU → IXR → BBI → BLR    05:50         13:15   7h 25m     2 stops   \n",
       "2      DEL → LKO → BOM → COK    09:25  04:25 10 Jun      19h     2 stops   \n",
       "3            CCU → NAG → BLR    18:05         23:30   5h 25m      1 stop   \n",
       "4            BLR → NAG → DEL    16:50         21:35   4h 45m      1 stop   \n",
       "...                      ...      ...           ...      ...         ...   \n",
       "10678              CCU → BLR    19:55         22:25   2h 30m    non-stop   \n",
       "10679              CCU → BLR    20:45         23:20   2h 35m    non-stop   \n",
       "10680              BLR → DEL    08:20         11:20       3h    non-stop   \n",
       "10681              BLR → DEL    11:30         14:10   2h 40m    non-stop   \n",
       "10682  DEL → GOI → BOM → COK    10:55         19:15   8h 20m     2 stops   \n",
       "\n",
       "      Additional_Info  Price  \n",
       "0             No info   3897  \n",
       "1             No info   7662  \n",
       "2             No info  13882  \n",
       "3             No info   6218  \n",
       "4             No info  13302  \n",
       "...               ...    ...  \n",
       "10678         No info   4107  \n",
       "10679         No info   4145  \n",
       "10680         No info   7229  \n",
       "10681         No info  12648  \n",
       "10682         No info  11753  \n",
       "\n",
       "[10683 rows x 11 columns]"
      ]
     },
     "execution_count": 1,
     "metadata": {},
     "output_type": "execute_result"
    }
   ],
   "source": [
    "import pandas as pd\n",
    "import seaborn  as sns\n",
    "import matplotlib.pyplot as plt\n",
    "from datetime import datetime as dt\n",
    "import warnings\n",
    "\n",
    "\n",
    "df=pd.read_excel(\"C:\\\\Users\\\\Ayush\\\\Downloads\\\\Data_Train (1).xlsx\")\n",
    "df"
   ]
  },
  {
   "cell_type": "code",
   "execution_count": 2,
   "id": "cceb696b",
   "metadata": {},
   "outputs": [
    {
     "data": {
      "text/html": [
       "<div>\n",
       "<style scoped>\n",
       "    .dataframe tbody tr th:only-of-type {\n",
       "        vertical-align: middle;\n",
       "    }\n",
       "\n",
       "    .dataframe tbody tr th {\n",
       "        vertical-align: top;\n",
       "    }\n",
       "\n",
       "    .dataframe thead th {\n",
       "        text-align: right;\n",
       "    }\n",
       "</style>\n",
       "<table border=\"1\" class=\"dataframe\">\n",
       "  <thead>\n",
       "    <tr style=\"text-align: right;\">\n",
       "      <th></th>\n",
       "      <th>Airline</th>\n",
       "      <th>Date_of_Journey</th>\n",
       "      <th>Source</th>\n",
       "      <th>Destination</th>\n",
       "      <th>Route</th>\n",
       "      <th>Dep_Time</th>\n",
       "      <th>Arrival_Time</th>\n",
       "      <th>Duration</th>\n",
       "      <th>Total_Stops</th>\n",
       "      <th>Additional_Info</th>\n",
       "      <th>Price</th>\n",
       "    </tr>\n",
       "  </thead>\n",
       "  <tbody>\n",
       "    <tr>\n",
       "      <th>0</th>\n",
       "      <td>IndiGo</td>\n",
       "      <td>24/03/2019</td>\n",
       "      <td>Banglore</td>\n",
       "      <td>New Delhi</td>\n",
       "      <td>BLR → DEL</td>\n",
       "      <td>22:20</td>\n",
       "      <td>01:10 22 Mar</td>\n",
       "      <td>2h 50m</td>\n",
       "      <td>non-stop</td>\n",
       "      <td>No info</td>\n",
       "      <td>3897</td>\n",
       "    </tr>\n",
       "    <tr>\n",
       "      <th>1</th>\n",
       "      <td>Air India</td>\n",
       "      <td>1/05/2019</td>\n",
       "      <td>Kolkata</td>\n",
       "      <td>Banglore</td>\n",
       "      <td>CCU → IXR → BBI → BLR</td>\n",
       "      <td>05:50</td>\n",
       "      <td>13:15</td>\n",
       "      <td>7h 25m</td>\n",
       "      <td>2 stops</td>\n",
       "      <td>No info</td>\n",
       "      <td>7662</td>\n",
       "    </tr>\n",
       "    <tr>\n",
       "      <th>2</th>\n",
       "      <td>Jet Airways</td>\n",
       "      <td>9/06/2019</td>\n",
       "      <td>Delhi</td>\n",
       "      <td>Cochin</td>\n",
       "      <td>DEL → LKO → BOM → COK</td>\n",
       "      <td>09:25</td>\n",
       "      <td>04:25 10 Jun</td>\n",
       "      <td>19h</td>\n",
       "      <td>2 stops</td>\n",
       "      <td>No info</td>\n",
       "      <td>13882</td>\n",
       "    </tr>\n",
       "    <tr>\n",
       "      <th>3</th>\n",
       "      <td>IndiGo</td>\n",
       "      <td>12/05/2019</td>\n",
       "      <td>Kolkata</td>\n",
       "      <td>Banglore</td>\n",
       "      <td>CCU → NAG → BLR</td>\n",
       "      <td>18:05</td>\n",
       "      <td>23:30</td>\n",
       "      <td>5h 25m</td>\n",
       "      <td>1 stop</td>\n",
       "      <td>No info</td>\n",
       "      <td>6218</td>\n",
       "    </tr>\n",
       "    <tr>\n",
       "      <th>4</th>\n",
       "      <td>IndiGo</td>\n",
       "      <td>01/03/2019</td>\n",
       "      <td>Banglore</td>\n",
       "      <td>New Delhi</td>\n",
       "      <td>BLR → NAG → DEL</td>\n",
       "      <td>16:50</td>\n",
       "      <td>21:35</td>\n",
       "      <td>4h 45m</td>\n",
       "      <td>1 stop</td>\n",
       "      <td>No info</td>\n",
       "      <td>13302</td>\n",
       "    </tr>\n",
       "  </tbody>\n",
       "</table>\n",
       "</div>"
      ],
      "text/plain": [
       "       Airline Date_of_Journey    Source Destination                  Route  \\\n",
       "0       IndiGo      24/03/2019  Banglore   New Delhi              BLR → DEL   \n",
       "1    Air India       1/05/2019   Kolkata    Banglore  CCU → IXR → BBI → BLR   \n",
       "2  Jet Airways       9/06/2019     Delhi      Cochin  DEL → LKO → BOM → COK   \n",
       "3       IndiGo      12/05/2019   Kolkata    Banglore        CCU → NAG → BLR   \n",
       "4       IndiGo      01/03/2019  Banglore   New Delhi        BLR → NAG → DEL   \n",
       "\n",
       "  Dep_Time  Arrival_Time Duration Total_Stops Additional_Info  Price  \n",
       "0    22:20  01:10 22 Mar   2h 50m    non-stop         No info   3897  \n",
       "1    05:50         13:15   7h 25m     2 stops         No info   7662  \n",
       "2    09:25  04:25 10 Jun      19h     2 stops         No info  13882  \n",
       "3    18:05         23:30   5h 25m      1 stop         No info   6218  \n",
       "4    16:50         21:35   4h 45m      1 stop         No info  13302  "
      ]
     },
     "execution_count": 2,
     "metadata": {},
     "output_type": "execute_result"
    }
   ],
   "source": [
    "df.head()"
   ]
  },
  {
   "cell_type": "code",
   "execution_count": 3,
   "id": "16c2f047",
   "metadata": {},
   "outputs": [
    {
     "data": {
      "text/plain": [
       "(10683, 11)"
      ]
     },
     "execution_count": 3,
     "metadata": {},
     "output_type": "execute_result"
    }
   ],
   "source": [
    "df.shape"
   ]
  },
  {
   "cell_type": "code",
   "execution_count": 4,
   "id": "c09276ca",
   "metadata": {},
   "outputs": [
    {
     "data": {
      "text/plain": [
       "Airline            0\n",
       "Date_of_Journey    0\n",
       "Source             0\n",
       "Destination        0\n",
       "Route              1\n",
       "Dep_Time           0\n",
       "Arrival_Time       0\n",
       "Duration           0\n",
       "Total_Stops        1\n",
       "Additional_Info    0\n",
       "Price              0\n",
       "dtype: int64"
      ]
     },
     "execution_count": 4,
     "metadata": {},
     "output_type": "execute_result"
    }
   ],
   "source": [
    "df.isnull().sum()"
   ]
  },
  {
   "cell_type": "code",
   "execution_count": 5,
   "id": "6c9051a8",
   "metadata": {},
   "outputs": [
    {
     "name": "stdout",
     "output_type": "stream",
     "text": [
      "<class 'pandas.core.frame.DataFrame'>\n",
      "RangeIndex: 10683 entries, 0 to 10682\n",
      "Data columns (total 11 columns):\n",
      " #   Column           Non-Null Count  Dtype \n",
      "---  ------           --------------  ----- \n",
      " 0   Airline          10683 non-null  object\n",
      " 1   Date_of_Journey  10683 non-null  object\n",
      " 2   Source           10683 non-null  object\n",
      " 3   Destination      10683 non-null  object\n",
      " 4   Route            10682 non-null  object\n",
      " 5   Dep_Time         10683 non-null  object\n",
      " 6   Arrival_Time     10683 non-null  object\n",
      " 7   Duration         10683 non-null  object\n",
      " 8   Total_Stops      10682 non-null  object\n",
      " 9   Additional_Info  10683 non-null  object\n",
      " 10  Price            10683 non-null  int64 \n",
      "dtypes: int64(1), object(10)\n",
      "memory usage: 918.2+ KB\n"
     ]
    }
   ],
   "source": [
    "df.info()"
   ]
  },
  {
   "cell_type": "code",
   "execution_count": 6,
   "id": "26b74ea5",
   "metadata": {},
   "outputs": [
    {
     "data": {
      "text/plain": [
       "Airline            object\n",
       "Date_of_Journey    object\n",
       "Source             object\n",
       "Destination        object\n",
       "Route              object\n",
       "Dep_Time           object\n",
       "Arrival_Time       object\n",
       "Duration           object\n",
       "Total_Stops        object\n",
       "Additional_Info    object\n",
       "Price               int64\n",
       "dtype: object"
      ]
     },
     "execution_count": 6,
     "metadata": {},
     "output_type": "execute_result"
    }
   ],
   "source": [
    "df.dtypes"
   ]
  },
  {
   "cell_type": "code",
   "execution_count": 7,
   "id": "e435071b",
   "metadata": {},
   "outputs": [
    {
     "name": "stdout",
     "output_type": "stream",
     "text": [
      "Airline ----------------- ['IndiGo' 'Air India' 'Jet Airways' 'SpiceJet' 'Multiple carriers' 'GoAir'\n",
      " 'Vistara' 'Air Asia' 'Vistara Premium economy' 'Jet Airways Business'\n",
      " 'Multiple carriers Premium economy' 'Trujet']\n",
      "Date_of_Journey ----------------- ['24/03/2019' '1/05/2019' '9/06/2019' '12/05/2019' '01/03/2019'\n",
      " '24/06/2019' '12/03/2019' '27/05/2019' '1/06/2019' '18/04/2019'\n",
      " '9/05/2019' '24/04/2019' '3/03/2019' '15/04/2019' '12/06/2019'\n",
      " '6/03/2019' '21/03/2019' '3/04/2019' '6/05/2019' '15/05/2019'\n",
      " '18/06/2019' '15/06/2019' '6/04/2019' '18/05/2019' '27/06/2019'\n",
      " '21/05/2019' '06/03/2019' '3/06/2019' '15/03/2019' '3/05/2019'\n",
      " '9/03/2019' '6/06/2019' '24/05/2019' '09/03/2019' '1/04/2019'\n",
      " '21/04/2019' '21/06/2019' '27/03/2019' '18/03/2019' '12/04/2019'\n",
      " '9/04/2019' '1/03/2019' '03/03/2019' '27/04/2019']\n",
      "Source ----------------- ['Banglore' 'Kolkata' 'Delhi' 'Chennai' 'Mumbai']\n",
      "Destination ----------------- ['New Delhi' 'Banglore' 'Cochin' 'Kolkata' 'Delhi' 'Hyderabad']\n",
      "Route ----------------- ['BLR → DEL' 'CCU → IXR → BBI → BLR' 'DEL → LKO → BOM → COK'\n",
      " 'CCU → NAG → BLR' 'BLR → NAG → DEL' 'CCU → BLR' 'BLR → BOM → DEL'\n",
      " 'DEL → BOM → COK' 'DEL → BLR → COK' 'MAA → CCU' 'CCU → BOM → BLR'\n",
      " 'DEL → AMD → BOM → COK' 'DEL → PNQ → COK' 'DEL → CCU → BOM → COK'\n",
      " 'BLR → COK → DEL' 'DEL → IDR → BOM → COK' 'DEL → LKO → COK'\n",
      " 'CCU → GAU → DEL → BLR' 'DEL → NAG → BOM → COK' 'CCU → MAA → BLR'\n",
      " 'DEL → HYD → COK' 'CCU → HYD → BLR' 'DEL → COK' 'CCU → DEL → BLR'\n",
      " 'BLR → BOM → AMD → DEL' 'BOM → DEL → HYD' 'DEL → MAA → COK' 'BOM → HYD'\n",
      " 'DEL → BHO → BOM → COK' 'DEL → JAI → BOM → COK' 'DEL → ATQ → BOM → COK'\n",
      " 'DEL → JDH → BOM → COK' 'CCU → BBI → BOM → BLR' 'BLR → MAA → DEL'\n",
      " 'DEL → GOI → BOM → COK' 'DEL → BDQ → BOM → COK' 'CCU → JAI → BOM → BLR'\n",
      " 'CCU → BBI → BLR' 'BLR → HYD → DEL' 'DEL → TRV → COK'\n",
      " 'CCU → IXR → DEL → BLR' 'DEL → IXU → BOM → COK' 'CCU → IXB → BLR'\n",
      " 'BLR → BOM → JDH → DEL' 'DEL → UDR → BOM → COK' 'DEL → HYD → MAA → COK'\n",
      " 'CCU → BOM → COK → BLR' 'BLR → CCU → DEL' 'CCU → BOM → GOI → BLR'\n",
      " 'DEL → RPR → NAG → BOM → COK' 'DEL → HYD → BOM → COK'\n",
      " 'CCU → DEL → AMD → BLR' 'CCU → PNQ → BLR' 'BLR → CCU → GAU → DEL'\n",
      " 'CCU → DEL → COK → BLR' 'BLR → PNQ → DEL' 'BOM → JDH → DEL → HYD'\n",
      " 'BLR → BOM → BHO → DEL' 'DEL → AMD → COK' 'BLR → LKO → DEL'\n",
      " 'CCU → GAU → BLR' 'BOM → GOI → HYD' 'CCU → BOM → AMD → BLR'\n",
      " 'CCU → BBI → IXR → DEL → BLR' 'DEL → DED → BOM → COK'\n",
      " 'DEL → MAA → BOM → COK' 'BLR → AMD → DEL' 'BLR → VGA → DEL'\n",
      " 'CCU → JAI → DEL → BLR' 'CCU → AMD → BLR' 'CCU → VNS → DEL → BLR'\n",
      " 'BLR → BOM → IDR → DEL' 'BLR → BBI → DEL' 'BLR → GOI → DEL'\n",
      " 'BOM → AMD → ISK → HYD' 'BOM → DED → DEL → HYD' 'DEL → IXC → BOM → COK'\n",
      " 'CCU → PAT → BLR' 'BLR → CCU → BBI → DEL' 'CCU → BBI → HYD → BLR'\n",
      " 'BLR → BOM → NAG → DEL' 'BLR → CCU → BBI → HYD → DEL' 'BLR → GAU → DEL'\n",
      " 'BOM → BHO → DEL → HYD' 'BOM → JLR → HYD' 'BLR → HYD → VGA → DEL'\n",
      " 'CCU → KNU → BLR' 'CCU → BOM → PNQ → BLR' 'DEL → BBI → COK'\n",
      " 'BLR → VGA → HYD → DEL' 'BOM → JDH → JAI → DEL → HYD'\n",
      " 'DEL → GWL → IDR → BOM → COK' 'CCU → RPR → HYD → BLR' 'CCU → VTZ → BLR'\n",
      " 'CCU → DEL → VGA → BLR' 'BLR → BOM → IDR → GWL → DEL'\n",
      " 'CCU → DEL → COK → TRV → BLR' 'BOM → COK → MAA → HYD' 'BOM → NDC → HYD'\n",
      " 'BLR → BDQ → DEL' 'CCU → BOM → TRV → BLR' 'CCU → BOM → HBX → BLR'\n",
      " 'BOM → BDQ → DEL → HYD' 'BOM → CCU → HYD' 'BLR → TRV → COK → DEL'\n",
      " 'BLR → IDR → DEL' 'CCU → IXZ → MAA → BLR' 'CCU → GAU → IMF → DEL → BLR'\n",
      " 'BOM → GOI → PNQ → HYD' 'BOM → BLR → CCU → BBI → HYD' 'BOM → MAA → HYD'\n",
      " 'BLR → BOM → UDR → DEL' 'BOM → UDR → DEL → HYD' 'BLR → VGA → VTZ → DEL'\n",
      " 'BLR → HBX → BOM → BHO → DEL' 'CCU → IXA → BLR' 'BOM → RPR → VTZ → HYD'\n",
      " 'BLR → HBX → BOM → AMD → DEL' 'BOM → IDR → DEL → HYD' 'BOM → BLR → HYD'\n",
      " 'BLR → STV → DEL' 'CCU → IXB → DEL → BLR' 'BOM → JAI → DEL → HYD'\n",
      " 'BOM → VNS → DEL → HYD' 'BLR → HBX → BOM → NAG → DEL' nan\n",
      " 'BLR → BOM → IXC → DEL' 'BLR → CCU → BBI → HYD → VGA → DEL'\n",
      " 'BOM → BBI → HYD']\n",
      "Dep_Time ----------------- ['22:20' '05:50' '09:25' '18:05' '16:50' '09:00' '18:55' '08:00' '08:55'\n",
      " '11:25' '09:45' '20:20' '11:40' '21:10' '17:15' '16:40' '08:45' '14:00'\n",
      " '20:15' '16:00' '14:10' '22:00' '04:00' '21:25' '21:50' '07:00' '07:05'\n",
      " '09:50' '14:35' '10:35' '15:05' '14:15' '06:45' '20:55' '11:10' '05:45'\n",
      " '19:00' '23:05' '11:00' '09:35' '21:15' '23:55' '19:45' '08:50' '15:40'\n",
      " '06:05' '15:00' '13:55' '05:55' '13:20' '05:05' '06:25' '17:30' '08:20'\n",
      " '19:55' '06:30' '14:05' '02:00' '09:40' '08:25' '20:25' '13:15' '02:15'\n",
      " '16:55' '20:45' '05:15' '19:50' '20:00' '06:10' '19:30' '04:45' '12:55'\n",
      " '18:15' '17:20' '15:25' '23:00' '12:00' '14:45' '11:50' '11:30' '14:40'\n",
      " '19:10' '06:00' '23:30' '07:35' '13:05' '12:30' '15:10' '12:50' '18:25'\n",
      " '16:30' '00:40' '06:50' '13:00' '19:15' '01:30' '17:00' '10:00' '19:35'\n",
      " '15:30' '12:10' '16:10' '20:35' '22:25' '21:05' '05:35' '05:10' '06:40'\n",
      " '15:15' '00:30' '08:30' '07:10' '05:30' '14:25' '05:25' '10:20' '17:45'\n",
      " '13:10' '22:10' '04:55' '17:50' '21:20' '06:20' '15:55' '20:30' '17:25'\n",
      " '09:30' '07:30' '02:35' '10:55' '17:10' '09:10' '18:45' '15:20' '22:50'\n",
      " '14:55' '14:20' '13:25' '22:15' '11:05' '16:15' '20:10' '06:55' '19:05'\n",
      " '07:55' '07:45' '10:10' '08:15' '11:35' '21:00' '17:55' '16:45' '18:20'\n",
      " '03:50' '08:35' '19:20' '20:05' '17:40' '04:40' '17:35' '09:55' '05:00'\n",
      " '18:00' '02:55' '20:40' '22:55' '22:40' '21:30' '08:10' '17:05' '07:25'\n",
      " '15:45' '09:15' '15:50' '11:45' '22:05' '18:35' '00:25' '19:40' '20:50'\n",
      " '22:45' '10:30' '23:25' '11:55' '10:45' '11:15' '12:20' '14:30' '07:15'\n",
      " '01:35' '18:40' '09:20' '21:55' '13:50' '01:40' '00:20' '04:15' '13:45'\n",
      " '18:30' '06:15' '02:05' '12:15' '13:30' '06:35' '10:05' '08:40' '03:05'\n",
      " '21:35' '16:35' '02:30' '16:25' '05:40' '15:35' '13:40' '07:20' '04:50'\n",
      " '12:45' '10:25' '12:05' '11:20' '21:40' '03:00']\n",
      "Arrival_Time ----------------- ['01:10 22 Mar' '13:15' '04:25 10 Jun' ... '06:50 10 Mar' '00:05 19 Mar'\n",
      " '21:20 13 Mar']\n",
      "Duration ----------------- ['2h 50m' '7h 25m' '19h' '5h 25m' '4h 45m' '2h 25m' '15h 30m' '21h 5m'\n",
      " '25h 30m' '7h 50m' '13h 15m' '2h 35m' '2h 15m' '12h 10m' '26h 35m'\n",
      " '4h 30m' '22h 35m' '23h' '20h 35m' '5h 10m' '15h 20m' '2h 55m' '13h 20m'\n",
      " '15h 10m' '5h 45m' '5h 55m' '13h 25m' '22h' '5h 30m' '10h 25m' '5h 15m'\n",
      " '2h 30m' '6h 15m' '11h 55m' '11h 5m' '8h 30m' '22h 5m' '2h 45m' '12h'\n",
      " '16h 5m' '19h 55m' '3h 15m' '25h 20m' '3h' '16h 15m' '15h 5m' '6h 30m'\n",
      " '25h 5m' '12h 25m' '27h 20m' '10h 15m' '10h 30m' '1h 30m' '1h 25m'\n",
      " '26h 30m' '7h 20m' '13h 30m' '5h' '19h 5m' '14h 50m' '2h 40m' '22h 10m'\n",
      " '9h 35m' '10h' '21h 20m' '18h 45m' '12h 20m' '18h' '9h 15m' '17h 30m'\n",
      " '16h 35m' '12h 15m' '7h 30m' '24h' '8h 55m' '7h 10m' '14h 30m' '30h 20m'\n",
      " '15h' '12h 45m' '10h 10m' '15h 25m' '14h 5m' '20h 15m' '23h 10m'\n",
      " '18h 10m' '16h' '2h 20m' '8h' '16h 55m' '3h 10m' '14h' '23h 50m'\n",
      " '21h 40m' '21h 15m' '10h 50m' '8h 15m' '8h 35m' '11h 50m' '27h 35m'\n",
      " '8h 25m' '20h 55m' '4h 50m' '8h 10m' '24h 25m' '23h 35m' '25h 45m'\n",
      " '26h 10m' '28h 50m' '25h 15m' '9h 20m' '9h 10m' '3h 5m' '11h 30m'\n",
      " '9h 30m' '17h 35m' '5h 5m' '25h 50m' '20h' '13h' '18h 25m' '24h 10m'\n",
      " '4h 55m' '25h 35m' '6h 20m' '18h 40m' '19h 25m' '29h 20m' '9h 5m'\n",
      " '10h 45m' '11h 40m' '22h 55m' '37h 25m' '25h 40m' '13h 55m' '8h 40m'\n",
      " '23h 30m' '12h 35m' '24h 15m' '1h 20m' '11h' '11h 15m' '14h 35m'\n",
      " '12h 55m' '9h' '7h 40m' '11h 45m' '24h 55m' '17h 5m' '29h 55m' '22h 15m'\n",
      " '14h 40m' '7h 15m' '20h 10m' '20h 45m' '27h' '24h 30m' '20h 25m' '5h 35m'\n",
      " '14h 45m' '5h 40m' '4h 5m' '15h 55m' '7h 45m' '28h 20m' '4h 20m' '3h 40m'\n",
      " '8h 50m' '23h 45m' '24h 45m' '21h 35m' '8h 5m' '6h 25m' '15h 50m'\n",
      " '26h 25m' '24h 50m' '26h' '23h 5m' '7h 55m' '26h 20m' '23h 15m' '5h 20m'\n",
      " '4h' '9h 45m' '8h 20m' '17h 25m' '7h 5m' '34h 5m' '6h 5m' '5h 50m' '7h'\n",
      " '4h 25m' '13h 45m' '19h 15m' '22h 30m' '16h 25m' '13h 50m' '27h 5m'\n",
      " '28h 10m' '4h 40m' '15h 40m' '4h 35m' '18h 30m' '38h 15m' '6h 35m'\n",
      " '12h 30m' '11h 20m' '7h 35m' '29h 35m' '26h 55m' '23h 40m' '12h 50m'\n",
      " '9h 50m' '21h 55m' '10h 55m' '21h 10m' '20h 40m' '30h' '13h 10m' '8h 45m'\n",
      " '6h 10m' '17h 45m' '21h 45m' '3h 55m' '17h 20m' '30h 30m' '21h 25m'\n",
      " '12h 40m' '24h 35m' '19h 10m' '22h 40m' '14h 55m' '21h' '6h 45m'\n",
      " '28h 40m' '9h 40m' '16h 40m' '16h 20m' '16h 45m' '1h 15m' '6h 55m'\n",
      " '11h 25m' '14h 20m' '12h 5m' '24h 5m' '28h 15m' '17h 50m' '20h 20m'\n",
      " '28h 5m' '10h 20m' '14h 15m' '35h 15m' '35h 35m' '26h 40m' '28h'\n",
      " '14h 25m' '13h 5m' '37h 20m' '36h 10m' '25h 55m' '35h 5m' '19h 45m'\n",
      " '27h 55m' '47h' '10h 35m' '1h 35m' '16h 10m' '38h 20m' '6h' '16h 50m'\n",
      " '14h 10m' '23h 20m' '17h 40m' '11h 35m' '18h 20m' '6h 40m' '30h 55m'\n",
      " '24h 40m' '29h 50m' '28h 25m' '17h 15m' '22h 45m' '25h 25m' '21h 50m'\n",
      " '33h 15m' '30h 15m' '3h 35m' '27h 40m' '30h 25m' '18h 50m' '27h 45m'\n",
      " '15h 15m' '10h 40m' '26h 15m' '36h 25m' '26h 50m' '15h 45m' '19h 40m'\n",
      " '22h 25m' '19h 35m' '25h' '26h 45m' '38h' '4h 15m' '25h 10m' '18h 15m'\n",
      " '6h 50m' '23h 55m' '17h 55m' '23h 25m' '17h 10m' '24h 20m' '28h 30m'\n",
      " '27h 10m' '19h 20m' '15h 35m' '9h 25m' '21h 30m' '34h 25m' '18h 35m'\n",
      " '29h 40m' '26h 5m' '29h 5m' '27h 25m' '16h 30m' '11h 10m' '28h 55m'\n",
      " '29h 10m' '34h' '30h 40m' '30h 45m' '32h 55m' '10h 5m' '35h 20m' '32h 5m'\n",
      " '31h 40m' '19h 50m' '33h 45m' '30h 10m' '13h 40m' '19h 30m' '31h 30m'\n",
      " '34h 30m' '27h 50m' '38h 35m' '42h 5m' '4h 10m' '39h 5m' '3h 50m' '5m'\n",
      " '32h 30m' '31h 55m' '33h 20m' '27h 30m' '18h 55m' '9h 55m' '41h 20m'\n",
      " '20h 5m' '31h 50m' '42h 45m' '3h 25m' '37h 10m' '29h 30m' '32h 20m'\n",
      " '20h 50m' '40h 20m' '13h 35m' '47h 40m']\n",
      "Total_Stops ----------------- ['non-stop' '2 stops' '1 stop' '3 stops' nan '4 stops']\n",
      "Additional_Info ----------------- ['No info' 'In-flight meal not included' 'No check-in baggage included'\n",
      " '1 Short layover' 'No Info' '1 Long layover' 'Change airports'\n",
      " 'Business class' 'Red-eye flight' '2 Long layover']\n",
      "Price ----------------- [ 3897  7662 13882 ...  9790 12352 12648]\n"
     ]
    }
   ],
   "source": [
    "for i in df.columns:\n",
    "    print(i,'-----------------',df[i].unique())"
   ]
  },
  {
   "cell_type": "code",
   "execution_count": 8,
   "id": "121c2809",
   "metadata": {},
   "outputs": [],
   "source": [
    "# make Delhi to new delhi or new delhi"
   ]
  },
  {
   "cell_type": "code",
   "execution_count": 9,
   "id": "17800a34",
   "metadata": {},
   "outputs": [
    {
     "data": {
      "text/plain": [
       "0    1 stop\n",
       "Name: Total_Stops, dtype: object"
      ]
     },
     "execution_count": 9,
     "metadata": {},
     "output_type": "execute_result"
    }
   ],
   "source": [
    "df['Total_Stops'].mode()"
   ]
  },
  {
   "cell_type": "code",
   "execution_count": 10,
   "id": "9e812b47",
   "metadata": {},
   "outputs": [
    {
     "data": {
      "text/plain": [
       "0    DEL → BOM → COK\n",
       "Name: Route, dtype: object"
      ]
     },
     "execution_count": 10,
     "metadata": {},
     "output_type": "execute_result"
    }
   ],
   "source": [
    "df['Route'].mode()"
   ]
  },
  {
   "cell_type": "code",
   "execution_count": 11,
   "id": "2741232e",
   "metadata": {},
   "outputs": [],
   "source": [
    "df['Total_Stops'].fillna(df['Total_Stops'].mode()[0],inplace=True)"
   ]
  },
  {
   "cell_type": "code",
   "execution_count": 12,
   "id": "33b836ef",
   "metadata": {},
   "outputs": [],
   "source": [
    "df['Route'].fillna(df['Route'].mode()[0],inplace=True)"
   ]
  },
  {
   "cell_type": "code",
   "execution_count": 13,
   "id": "87a70435",
   "metadata": {},
   "outputs": [
    {
     "data": {
      "text/plain": [
       "Airline            0\n",
       "Date_of_Journey    0\n",
       "Source             0\n",
       "Destination        0\n",
       "Route              0\n",
       "Dep_Time           0\n",
       "Arrival_Time       0\n",
       "Duration           0\n",
       "Total_Stops        0\n",
       "Additional_Info    0\n",
       "Price              0\n",
       "dtype: int64"
      ]
     },
     "execution_count": 13,
     "metadata": {},
     "output_type": "execute_result"
    }
   ],
   "source": [
    "df.isnull().sum()"
   ]
  },
  {
   "cell_type": "code",
   "execution_count": 14,
   "id": "88436ddf",
   "metadata": {},
   "outputs": [],
   "source": [
    "df['Destination']=df['Destination'].replace('New Delhi','Delhi')"
   ]
  },
  {
   "cell_type": "code",
   "execution_count": 15,
   "id": "1b0752b2",
   "metadata": {},
   "outputs": [
    {
     "data": {
      "text/plain": [
       "array(['Delhi', 'Banglore', 'Cochin', 'Kolkata', 'Hyderabad'],\n",
       "      dtype=object)"
      ]
     },
     "execution_count": 15,
     "metadata": {},
     "output_type": "execute_result"
    }
   ],
   "source": [
    "df['Destination'].unique()"
   ]
  },
  {
   "cell_type": "code",
   "execution_count": 16,
   "id": "448e3b98",
   "metadata": {},
   "outputs": [
    {
     "name": "stderr",
     "output_type": "stream",
     "text": [
      "C:\\ProgramData\\Anaconda3\\lib\\site-packages\\pandas\\core\\tools\\datetimes.py:1047: UserWarning: Parsing '24/03/2019' in DD/MM/YYYY format. Provide format or specify infer_datetime_format=True for consistent parsing.\n",
      "  cache_array = _maybe_cache(arg, format, cache, convert_listlike)\n",
      "C:\\ProgramData\\Anaconda3\\lib\\site-packages\\pandas\\core\\tools\\datetimes.py:1047: UserWarning: Parsing '24/06/2019' in DD/MM/YYYY format. Provide format or specify infer_datetime_format=True for consistent parsing.\n",
      "  cache_array = _maybe_cache(arg, format, cache, convert_listlike)\n",
      "C:\\ProgramData\\Anaconda3\\lib\\site-packages\\pandas\\core\\tools\\datetimes.py:1047: UserWarning: Parsing '27/05/2019' in DD/MM/YYYY format. Provide format or specify infer_datetime_format=True for consistent parsing.\n",
      "  cache_array = _maybe_cache(arg, format, cache, convert_listlike)\n",
      "C:\\ProgramData\\Anaconda3\\lib\\site-packages\\pandas\\core\\tools\\datetimes.py:1047: UserWarning: Parsing '18/04/2019' in DD/MM/YYYY format. Provide format or specify infer_datetime_format=True for consistent parsing.\n",
      "  cache_array = _maybe_cache(arg, format, cache, convert_listlike)\n",
      "C:\\ProgramData\\Anaconda3\\lib\\site-packages\\pandas\\core\\tools\\datetimes.py:1047: UserWarning: Parsing '24/04/2019' in DD/MM/YYYY format. Provide format or specify infer_datetime_format=True for consistent parsing.\n",
      "  cache_array = _maybe_cache(arg, format, cache, convert_listlike)\n",
      "C:\\ProgramData\\Anaconda3\\lib\\site-packages\\pandas\\core\\tools\\datetimes.py:1047: UserWarning: Parsing '15/04/2019' in DD/MM/YYYY format. Provide format or specify infer_datetime_format=True for consistent parsing.\n",
      "  cache_array = _maybe_cache(arg, format, cache, convert_listlike)\n",
      "C:\\ProgramData\\Anaconda3\\lib\\site-packages\\pandas\\core\\tools\\datetimes.py:1047: UserWarning: Parsing '21/03/2019' in DD/MM/YYYY format. Provide format or specify infer_datetime_format=True for consistent parsing.\n",
      "  cache_array = _maybe_cache(arg, format, cache, convert_listlike)\n",
      "C:\\ProgramData\\Anaconda3\\lib\\site-packages\\pandas\\core\\tools\\datetimes.py:1047: UserWarning: Parsing '15/05/2019' in DD/MM/YYYY format. Provide format or specify infer_datetime_format=True for consistent parsing.\n",
      "  cache_array = _maybe_cache(arg, format, cache, convert_listlike)\n",
      "C:\\ProgramData\\Anaconda3\\lib\\site-packages\\pandas\\core\\tools\\datetimes.py:1047: UserWarning: Parsing '18/06/2019' in DD/MM/YYYY format. Provide format or specify infer_datetime_format=True for consistent parsing.\n",
      "  cache_array = _maybe_cache(arg, format, cache, convert_listlike)\n",
      "C:\\ProgramData\\Anaconda3\\lib\\site-packages\\pandas\\core\\tools\\datetimes.py:1047: UserWarning: Parsing '15/06/2019' in DD/MM/YYYY format. Provide format or specify infer_datetime_format=True for consistent parsing.\n",
      "  cache_array = _maybe_cache(arg, format, cache, convert_listlike)\n",
      "C:\\ProgramData\\Anaconda3\\lib\\site-packages\\pandas\\core\\tools\\datetimes.py:1047: UserWarning: Parsing '18/05/2019' in DD/MM/YYYY format. Provide format or specify infer_datetime_format=True for consistent parsing.\n",
      "  cache_array = _maybe_cache(arg, format, cache, convert_listlike)\n",
      "C:\\ProgramData\\Anaconda3\\lib\\site-packages\\pandas\\core\\tools\\datetimes.py:1047: UserWarning: Parsing '27/06/2019' in DD/MM/YYYY format. Provide format or specify infer_datetime_format=True for consistent parsing.\n",
      "  cache_array = _maybe_cache(arg, format, cache, convert_listlike)\n",
      "C:\\ProgramData\\Anaconda3\\lib\\site-packages\\pandas\\core\\tools\\datetimes.py:1047: UserWarning: Parsing '21/05/2019' in DD/MM/YYYY format. Provide format or specify infer_datetime_format=True for consistent parsing.\n",
      "  cache_array = _maybe_cache(arg, format, cache, convert_listlike)\n",
      "C:\\ProgramData\\Anaconda3\\lib\\site-packages\\pandas\\core\\tools\\datetimes.py:1047: UserWarning: Parsing '15/03/2019' in DD/MM/YYYY format. Provide format or specify infer_datetime_format=True for consistent parsing.\n",
      "  cache_array = _maybe_cache(arg, format, cache, convert_listlike)\n",
      "C:\\ProgramData\\Anaconda3\\lib\\site-packages\\pandas\\core\\tools\\datetimes.py:1047: UserWarning: Parsing '24/05/2019' in DD/MM/YYYY format. Provide format or specify infer_datetime_format=True for consistent parsing.\n",
      "  cache_array = _maybe_cache(arg, format, cache, convert_listlike)\n",
      "C:\\ProgramData\\Anaconda3\\lib\\site-packages\\pandas\\core\\tools\\datetimes.py:1047: UserWarning: Parsing '21/04/2019' in DD/MM/YYYY format. Provide format or specify infer_datetime_format=True for consistent parsing.\n",
      "  cache_array = _maybe_cache(arg, format, cache, convert_listlike)\n",
      "C:\\ProgramData\\Anaconda3\\lib\\site-packages\\pandas\\core\\tools\\datetimes.py:1047: UserWarning: Parsing '21/06/2019' in DD/MM/YYYY format. Provide format or specify infer_datetime_format=True for consistent parsing.\n",
      "  cache_array = _maybe_cache(arg, format, cache, convert_listlike)\n",
      "C:\\ProgramData\\Anaconda3\\lib\\site-packages\\pandas\\core\\tools\\datetimes.py:1047: UserWarning: Parsing '27/03/2019' in DD/MM/YYYY format. Provide format or specify infer_datetime_format=True for consistent parsing.\n",
      "  cache_array = _maybe_cache(arg, format, cache, convert_listlike)\n",
      "C:\\ProgramData\\Anaconda3\\lib\\site-packages\\pandas\\core\\tools\\datetimes.py:1047: UserWarning: Parsing '18/03/2019' in DD/MM/YYYY format. Provide format or specify infer_datetime_format=True for consistent parsing.\n",
      "  cache_array = _maybe_cache(arg, format, cache, convert_listlike)\n",
      "C:\\ProgramData\\Anaconda3\\lib\\site-packages\\pandas\\core\\tools\\datetimes.py:1047: UserWarning: Parsing '27/04/2019' in DD/MM/YYYY format. Provide format or specify infer_datetime_format=True for consistent parsing.\n",
      "  cache_array = _maybe_cache(arg, format, cache, convert_listlike)\n"
     ]
    }
   ],
   "source": [
    "df[\"Date_of_Journey\"]=pd.to_datetime(df[\"Date_of_Journey\"])\n",
    "df[\"Dep_Time\"]=pd.to_datetime(df[\"Dep_Time\"])\n",
    "df[\"Arrival_Time\"]=pd.to_datetime(df[\"Arrival_Time\"])\n",
    "\n"
   ]
  },
  {
   "cell_type": "code",
   "execution_count": 17,
   "id": "01f93382",
   "metadata": {},
   "outputs": [
    {
     "data": {
      "text/html": [
       "<div>\n",
       "<style scoped>\n",
       "    .dataframe tbody tr th:only-of-type {\n",
       "        vertical-align: middle;\n",
       "    }\n",
       "\n",
       "    .dataframe tbody tr th {\n",
       "        vertical-align: top;\n",
       "    }\n",
       "\n",
       "    .dataframe thead th {\n",
       "        text-align: right;\n",
       "    }\n",
       "</style>\n",
       "<table border=\"1\" class=\"dataframe\">\n",
       "  <thead>\n",
       "    <tr style=\"text-align: right;\">\n",
       "      <th></th>\n",
       "      <th>Airline</th>\n",
       "      <th>Date_of_Journey</th>\n",
       "      <th>Source</th>\n",
       "      <th>Destination</th>\n",
       "      <th>Route</th>\n",
       "      <th>Dep_Time</th>\n",
       "      <th>Arrival_Time</th>\n",
       "      <th>Duration</th>\n",
       "      <th>Total_Stops</th>\n",
       "      <th>Additional_Info</th>\n",
       "      <th>Price</th>\n",
       "    </tr>\n",
       "  </thead>\n",
       "  <tbody>\n",
       "    <tr>\n",
       "      <th>0</th>\n",
       "      <td>IndiGo</td>\n",
       "      <td>2019-03-24</td>\n",
       "      <td>Banglore</td>\n",
       "      <td>Delhi</td>\n",
       "      <td>BLR → DEL</td>\n",
       "      <td>2022-12-16 22:20:00</td>\n",
       "      <td>2022-03-22 01:10:00</td>\n",
       "      <td>2h 50m</td>\n",
       "      <td>non-stop</td>\n",
       "      <td>No info</td>\n",
       "      <td>3897</td>\n",
       "    </tr>\n",
       "    <tr>\n",
       "      <th>1</th>\n",
       "      <td>Air India</td>\n",
       "      <td>2019-01-05</td>\n",
       "      <td>Kolkata</td>\n",
       "      <td>Banglore</td>\n",
       "      <td>CCU → IXR → BBI → BLR</td>\n",
       "      <td>2022-12-16 05:50:00</td>\n",
       "      <td>2022-12-16 13:15:00</td>\n",
       "      <td>7h 25m</td>\n",
       "      <td>2 stops</td>\n",
       "      <td>No info</td>\n",
       "      <td>7662</td>\n",
       "    </tr>\n",
       "    <tr>\n",
       "      <th>2</th>\n",
       "      <td>Jet Airways</td>\n",
       "      <td>2019-09-06</td>\n",
       "      <td>Delhi</td>\n",
       "      <td>Cochin</td>\n",
       "      <td>DEL → LKO → BOM → COK</td>\n",
       "      <td>2022-12-16 09:25:00</td>\n",
       "      <td>2022-06-10 04:25:00</td>\n",
       "      <td>19h</td>\n",
       "      <td>2 stops</td>\n",
       "      <td>No info</td>\n",
       "      <td>13882</td>\n",
       "    </tr>\n",
       "    <tr>\n",
       "      <th>3</th>\n",
       "      <td>IndiGo</td>\n",
       "      <td>2019-12-05</td>\n",
       "      <td>Kolkata</td>\n",
       "      <td>Banglore</td>\n",
       "      <td>CCU → NAG → BLR</td>\n",
       "      <td>2022-12-16 18:05:00</td>\n",
       "      <td>2022-12-16 23:30:00</td>\n",
       "      <td>5h 25m</td>\n",
       "      <td>1 stop</td>\n",
       "      <td>No info</td>\n",
       "      <td>6218</td>\n",
       "    </tr>\n",
       "    <tr>\n",
       "      <th>4</th>\n",
       "      <td>IndiGo</td>\n",
       "      <td>2019-01-03</td>\n",
       "      <td>Banglore</td>\n",
       "      <td>Delhi</td>\n",
       "      <td>BLR → NAG → DEL</td>\n",
       "      <td>2022-12-16 16:50:00</td>\n",
       "      <td>2022-12-16 21:35:00</td>\n",
       "      <td>4h 45m</td>\n",
       "      <td>1 stop</td>\n",
       "      <td>No info</td>\n",
       "      <td>13302</td>\n",
       "    </tr>\n",
       "    <tr>\n",
       "      <th>...</th>\n",
       "      <td>...</td>\n",
       "      <td>...</td>\n",
       "      <td>...</td>\n",
       "      <td>...</td>\n",
       "      <td>...</td>\n",
       "      <td>...</td>\n",
       "      <td>...</td>\n",
       "      <td>...</td>\n",
       "      <td>...</td>\n",
       "      <td>...</td>\n",
       "      <td>...</td>\n",
       "    </tr>\n",
       "    <tr>\n",
       "      <th>10678</th>\n",
       "      <td>Air Asia</td>\n",
       "      <td>2019-09-04</td>\n",
       "      <td>Kolkata</td>\n",
       "      <td>Banglore</td>\n",
       "      <td>CCU → BLR</td>\n",
       "      <td>2022-12-16 19:55:00</td>\n",
       "      <td>2022-12-16 22:25:00</td>\n",
       "      <td>2h 30m</td>\n",
       "      <td>non-stop</td>\n",
       "      <td>No info</td>\n",
       "      <td>4107</td>\n",
       "    </tr>\n",
       "    <tr>\n",
       "      <th>10679</th>\n",
       "      <td>Air India</td>\n",
       "      <td>2019-04-27</td>\n",
       "      <td>Kolkata</td>\n",
       "      <td>Banglore</td>\n",
       "      <td>CCU → BLR</td>\n",
       "      <td>2022-12-16 20:45:00</td>\n",
       "      <td>2022-12-16 23:20:00</td>\n",
       "      <td>2h 35m</td>\n",
       "      <td>non-stop</td>\n",
       "      <td>No info</td>\n",
       "      <td>4145</td>\n",
       "    </tr>\n",
       "    <tr>\n",
       "      <th>10680</th>\n",
       "      <td>Jet Airways</td>\n",
       "      <td>2019-04-27</td>\n",
       "      <td>Banglore</td>\n",
       "      <td>Delhi</td>\n",
       "      <td>BLR → DEL</td>\n",
       "      <td>2022-12-16 08:20:00</td>\n",
       "      <td>2022-12-16 11:20:00</td>\n",
       "      <td>3h</td>\n",
       "      <td>non-stop</td>\n",
       "      <td>No info</td>\n",
       "      <td>7229</td>\n",
       "    </tr>\n",
       "    <tr>\n",
       "      <th>10681</th>\n",
       "      <td>Vistara</td>\n",
       "      <td>2019-01-03</td>\n",
       "      <td>Banglore</td>\n",
       "      <td>Delhi</td>\n",
       "      <td>BLR → DEL</td>\n",
       "      <td>2022-12-16 11:30:00</td>\n",
       "      <td>2022-12-16 14:10:00</td>\n",
       "      <td>2h 40m</td>\n",
       "      <td>non-stop</td>\n",
       "      <td>No info</td>\n",
       "      <td>12648</td>\n",
       "    </tr>\n",
       "    <tr>\n",
       "      <th>10682</th>\n",
       "      <td>Air India</td>\n",
       "      <td>2019-09-05</td>\n",
       "      <td>Delhi</td>\n",
       "      <td>Cochin</td>\n",
       "      <td>DEL → GOI → BOM → COK</td>\n",
       "      <td>2022-12-16 10:55:00</td>\n",
       "      <td>2022-12-16 19:15:00</td>\n",
       "      <td>8h 20m</td>\n",
       "      <td>2 stops</td>\n",
       "      <td>No info</td>\n",
       "      <td>11753</td>\n",
       "    </tr>\n",
       "  </tbody>\n",
       "</table>\n",
       "<p>10683 rows × 11 columns</p>\n",
       "</div>"
      ],
      "text/plain": [
       "           Airline Date_of_Journey    Source Destination  \\\n",
       "0           IndiGo      2019-03-24  Banglore       Delhi   \n",
       "1        Air India      2019-01-05   Kolkata    Banglore   \n",
       "2      Jet Airways      2019-09-06     Delhi      Cochin   \n",
       "3           IndiGo      2019-12-05   Kolkata    Banglore   \n",
       "4           IndiGo      2019-01-03  Banglore       Delhi   \n",
       "...            ...             ...       ...         ...   \n",
       "10678     Air Asia      2019-09-04   Kolkata    Banglore   \n",
       "10679    Air India      2019-04-27   Kolkata    Banglore   \n",
       "10680  Jet Airways      2019-04-27  Banglore       Delhi   \n",
       "10681      Vistara      2019-01-03  Banglore       Delhi   \n",
       "10682    Air India      2019-09-05     Delhi      Cochin   \n",
       "\n",
       "                       Route            Dep_Time        Arrival_Time Duration  \\\n",
       "0                  BLR → DEL 2022-12-16 22:20:00 2022-03-22 01:10:00   2h 50m   \n",
       "1      CCU → IXR → BBI → BLR 2022-12-16 05:50:00 2022-12-16 13:15:00   7h 25m   \n",
       "2      DEL → LKO → BOM → COK 2022-12-16 09:25:00 2022-06-10 04:25:00      19h   \n",
       "3            CCU → NAG → BLR 2022-12-16 18:05:00 2022-12-16 23:30:00   5h 25m   \n",
       "4            BLR → NAG → DEL 2022-12-16 16:50:00 2022-12-16 21:35:00   4h 45m   \n",
       "...                      ...                 ...                 ...      ...   \n",
       "10678              CCU → BLR 2022-12-16 19:55:00 2022-12-16 22:25:00   2h 30m   \n",
       "10679              CCU → BLR 2022-12-16 20:45:00 2022-12-16 23:20:00   2h 35m   \n",
       "10680              BLR → DEL 2022-12-16 08:20:00 2022-12-16 11:20:00       3h   \n",
       "10681              BLR → DEL 2022-12-16 11:30:00 2022-12-16 14:10:00   2h 40m   \n",
       "10682  DEL → GOI → BOM → COK 2022-12-16 10:55:00 2022-12-16 19:15:00   8h 20m   \n",
       "\n",
       "      Total_Stops Additional_Info  Price  \n",
       "0        non-stop         No info   3897  \n",
       "1         2 stops         No info   7662  \n",
       "2         2 stops         No info  13882  \n",
       "3          1 stop         No info   6218  \n",
       "4          1 stop         No info  13302  \n",
       "...           ...             ...    ...  \n",
       "10678    non-stop         No info   4107  \n",
       "10679    non-stop         No info   4145  \n",
       "10680    non-stop         No info   7229  \n",
       "10681    non-stop         No info  12648  \n",
       "10682     2 stops         No info  11753  \n",
       "\n",
       "[10683 rows x 11 columns]"
      ]
     },
     "execution_count": 17,
     "metadata": {},
     "output_type": "execute_result"
    }
   ],
   "source": [
    "df"
   ]
  },
  {
   "cell_type": "code",
   "execution_count": 18,
   "id": "ba2c7e87",
   "metadata": {},
   "outputs": [],
   "source": [
    "\n",
    "# Extracting  day \n",
    "df[\"day_of_journey\"] = df[\"Date_of_Journey\"].dt.day\n",
    "\n",
    "# Extracting month\n",
    "df[\"month_of_journey\"] = df[\"Date_of_Journey\"].dt.month\n",
    "\n",
    "## Extracting  departure Hours\n",
    "df[\"Dep_hour\"] = df[\"Dep_Time\"].dt.hour\n",
    "\n",
    "# Extracting departure Minutes\n",
    "df[\"Dep_min\"] = df[\"Dep_Time\"].dt.minute\n",
    "\n",
    "## Extracting  arrival Hours\n",
    "df[\"arrival_hour\"] = df[\"Arrival_Time\"].dt.hour\n",
    "\n",
    "# Extracting arrival Minutes\n",
    "df[\"arrival_min\"] = df[\"Arrival_Time\"].dt.minute\n",
    "\n"
   ]
  },
  {
   "cell_type": "code",
   "execution_count": 19,
   "id": "e138a21e",
   "metadata": {},
   "outputs": [
    {
     "data": {
      "text/html": [
       "<div>\n",
       "<style scoped>\n",
       "    .dataframe tbody tr th:only-of-type {\n",
       "        vertical-align: middle;\n",
       "    }\n",
       "\n",
       "    .dataframe tbody tr th {\n",
       "        vertical-align: top;\n",
       "    }\n",
       "\n",
       "    .dataframe thead th {\n",
       "        text-align: right;\n",
       "    }\n",
       "</style>\n",
       "<table border=\"1\" class=\"dataframe\">\n",
       "  <thead>\n",
       "    <tr style=\"text-align: right;\">\n",
       "      <th></th>\n",
       "      <th>Airline</th>\n",
       "      <th>Date_of_Journey</th>\n",
       "      <th>Source</th>\n",
       "      <th>Destination</th>\n",
       "      <th>Route</th>\n",
       "      <th>Dep_Time</th>\n",
       "      <th>Arrival_Time</th>\n",
       "      <th>Duration</th>\n",
       "      <th>Total_Stops</th>\n",
       "      <th>Additional_Info</th>\n",
       "      <th>Price</th>\n",
       "      <th>day_of_journey</th>\n",
       "      <th>month_of_journey</th>\n",
       "      <th>Dep_hour</th>\n",
       "      <th>Dep_min</th>\n",
       "      <th>arrival_hour</th>\n",
       "      <th>arrival_min</th>\n",
       "    </tr>\n",
       "  </thead>\n",
       "  <tbody>\n",
       "    <tr>\n",
       "      <th>0</th>\n",
       "      <td>IndiGo</td>\n",
       "      <td>2019-03-24</td>\n",
       "      <td>Banglore</td>\n",
       "      <td>Delhi</td>\n",
       "      <td>BLR → DEL</td>\n",
       "      <td>2022-12-16 22:20:00</td>\n",
       "      <td>2022-03-22 01:10:00</td>\n",
       "      <td>2h 50m</td>\n",
       "      <td>non-stop</td>\n",
       "      <td>No info</td>\n",
       "      <td>3897</td>\n",
       "      <td>24</td>\n",
       "      <td>3</td>\n",
       "      <td>22</td>\n",
       "      <td>20</td>\n",
       "      <td>1</td>\n",
       "      <td>10</td>\n",
       "    </tr>\n",
       "    <tr>\n",
       "      <th>1</th>\n",
       "      <td>Air India</td>\n",
       "      <td>2019-01-05</td>\n",
       "      <td>Kolkata</td>\n",
       "      <td>Banglore</td>\n",
       "      <td>CCU → IXR → BBI → BLR</td>\n",
       "      <td>2022-12-16 05:50:00</td>\n",
       "      <td>2022-12-16 13:15:00</td>\n",
       "      <td>7h 25m</td>\n",
       "      <td>2 stops</td>\n",
       "      <td>No info</td>\n",
       "      <td>7662</td>\n",
       "      <td>5</td>\n",
       "      <td>1</td>\n",
       "      <td>5</td>\n",
       "      <td>50</td>\n",
       "      <td>13</td>\n",
       "      <td>15</td>\n",
       "    </tr>\n",
       "    <tr>\n",
       "      <th>2</th>\n",
       "      <td>Jet Airways</td>\n",
       "      <td>2019-09-06</td>\n",
       "      <td>Delhi</td>\n",
       "      <td>Cochin</td>\n",
       "      <td>DEL → LKO → BOM → COK</td>\n",
       "      <td>2022-12-16 09:25:00</td>\n",
       "      <td>2022-06-10 04:25:00</td>\n",
       "      <td>19h</td>\n",
       "      <td>2 stops</td>\n",
       "      <td>No info</td>\n",
       "      <td>13882</td>\n",
       "      <td>6</td>\n",
       "      <td>9</td>\n",
       "      <td>9</td>\n",
       "      <td>25</td>\n",
       "      <td>4</td>\n",
       "      <td>25</td>\n",
       "    </tr>\n",
       "    <tr>\n",
       "      <th>3</th>\n",
       "      <td>IndiGo</td>\n",
       "      <td>2019-12-05</td>\n",
       "      <td>Kolkata</td>\n",
       "      <td>Banglore</td>\n",
       "      <td>CCU → NAG → BLR</td>\n",
       "      <td>2022-12-16 18:05:00</td>\n",
       "      <td>2022-12-16 23:30:00</td>\n",
       "      <td>5h 25m</td>\n",
       "      <td>1 stop</td>\n",
       "      <td>No info</td>\n",
       "      <td>6218</td>\n",
       "      <td>5</td>\n",
       "      <td>12</td>\n",
       "      <td>18</td>\n",
       "      <td>5</td>\n",
       "      <td>23</td>\n",
       "      <td>30</td>\n",
       "    </tr>\n",
       "    <tr>\n",
       "      <th>4</th>\n",
       "      <td>IndiGo</td>\n",
       "      <td>2019-01-03</td>\n",
       "      <td>Banglore</td>\n",
       "      <td>Delhi</td>\n",
       "      <td>BLR → NAG → DEL</td>\n",
       "      <td>2022-12-16 16:50:00</td>\n",
       "      <td>2022-12-16 21:35:00</td>\n",
       "      <td>4h 45m</td>\n",
       "      <td>1 stop</td>\n",
       "      <td>No info</td>\n",
       "      <td>13302</td>\n",
       "      <td>3</td>\n",
       "      <td>1</td>\n",
       "      <td>16</td>\n",
       "      <td>50</td>\n",
       "      <td>21</td>\n",
       "      <td>35</td>\n",
       "    </tr>\n",
       "  </tbody>\n",
       "</table>\n",
       "</div>"
      ],
      "text/plain": [
       "       Airline Date_of_Journey    Source Destination                  Route  \\\n",
       "0       IndiGo      2019-03-24  Banglore       Delhi              BLR → DEL   \n",
       "1    Air India      2019-01-05   Kolkata    Banglore  CCU → IXR → BBI → BLR   \n",
       "2  Jet Airways      2019-09-06     Delhi      Cochin  DEL → LKO → BOM → COK   \n",
       "3       IndiGo      2019-12-05   Kolkata    Banglore        CCU → NAG → BLR   \n",
       "4       IndiGo      2019-01-03  Banglore       Delhi        BLR → NAG → DEL   \n",
       "\n",
       "             Dep_Time        Arrival_Time Duration Total_Stops  \\\n",
       "0 2022-12-16 22:20:00 2022-03-22 01:10:00   2h 50m    non-stop   \n",
       "1 2022-12-16 05:50:00 2022-12-16 13:15:00   7h 25m     2 stops   \n",
       "2 2022-12-16 09:25:00 2022-06-10 04:25:00      19h     2 stops   \n",
       "3 2022-12-16 18:05:00 2022-12-16 23:30:00   5h 25m      1 stop   \n",
       "4 2022-12-16 16:50:00 2022-12-16 21:35:00   4h 45m      1 stop   \n",
       "\n",
       "  Additional_Info  Price  day_of_journey  month_of_journey  Dep_hour  Dep_min  \\\n",
       "0         No info   3897              24                 3        22       20   \n",
       "1         No info   7662               5                 1         5       50   \n",
       "2         No info  13882               6                 9         9       25   \n",
       "3         No info   6218               5                12        18        5   \n",
       "4         No info  13302               3                 1        16       50   \n",
       "\n",
       "   arrival_hour  arrival_min  \n",
       "0             1           10  \n",
       "1            13           15  \n",
       "2             4           25  \n",
       "3            23           30  \n",
       "4            21           35  "
      ]
     },
     "execution_count": 19,
     "metadata": {},
     "output_type": "execute_result"
    }
   ],
   "source": [
    "df.head()"
   ]
  },
  {
   "cell_type": "code",
   "execution_count": 20,
   "id": "cb153646",
   "metadata": {},
   "outputs": [
    {
     "data": {
      "text/plain": [
       "Airline                     object\n",
       "Date_of_Journey     datetime64[ns]\n",
       "Source                      object\n",
       "Destination                 object\n",
       "Route                       object\n",
       "Dep_Time            datetime64[ns]\n",
       "Arrival_Time        datetime64[ns]\n",
       "Duration                    object\n",
       "Total_Stops                 object\n",
       "Additional_Info             object\n",
       "Price                        int64\n",
       "day_of_journey               int64\n",
       "month_of_journey             int64\n",
       "Dep_hour                     int64\n",
       "Dep_min                      int64\n",
       "arrival_hour                 int64\n",
       "arrival_min                  int64\n",
       "dtype: object"
      ]
     },
     "execution_count": 20,
     "metadata": {},
     "output_type": "execute_result"
    }
   ],
   "source": [
    "df.dtypes"
   ]
  },
  {
   "cell_type": "code",
   "execution_count": 21,
   "id": "e03e2e68",
   "metadata": {},
   "outputs": [],
   "source": [
    "df.drop(columns=['Dep_Time','Arrival_Time','Date_of_Journey'],inplace=True)"
   ]
  },
  {
   "cell_type": "code",
   "execution_count": 22,
   "id": "0a134114",
   "metadata": {},
   "outputs": [
    {
     "data": {
      "text/html": [
       "<div>\n",
       "<style scoped>\n",
       "    .dataframe tbody tr th:only-of-type {\n",
       "        vertical-align: middle;\n",
       "    }\n",
       "\n",
       "    .dataframe tbody tr th {\n",
       "        vertical-align: top;\n",
       "    }\n",
       "\n",
       "    .dataframe thead th {\n",
       "        text-align: right;\n",
       "    }\n",
       "</style>\n",
       "<table border=\"1\" class=\"dataframe\">\n",
       "  <thead>\n",
       "    <tr style=\"text-align: right;\">\n",
       "      <th></th>\n",
       "      <th>Airline</th>\n",
       "      <th>Source</th>\n",
       "      <th>Destination</th>\n",
       "      <th>Route</th>\n",
       "      <th>Duration</th>\n",
       "      <th>Total_Stops</th>\n",
       "      <th>Additional_Info</th>\n",
       "      <th>Price</th>\n",
       "      <th>day_of_journey</th>\n",
       "      <th>month_of_journey</th>\n",
       "      <th>Dep_hour</th>\n",
       "      <th>Dep_min</th>\n",
       "      <th>arrival_hour</th>\n",
       "      <th>arrival_min</th>\n",
       "    </tr>\n",
       "  </thead>\n",
       "  <tbody>\n",
       "    <tr>\n",
       "      <th>0</th>\n",
       "      <td>IndiGo</td>\n",
       "      <td>Banglore</td>\n",
       "      <td>Delhi</td>\n",
       "      <td>BLR → DEL</td>\n",
       "      <td>2h 50m</td>\n",
       "      <td>non-stop</td>\n",
       "      <td>No info</td>\n",
       "      <td>3897</td>\n",
       "      <td>24</td>\n",
       "      <td>3</td>\n",
       "      <td>22</td>\n",
       "      <td>20</td>\n",
       "      <td>1</td>\n",
       "      <td>10</td>\n",
       "    </tr>\n",
       "    <tr>\n",
       "      <th>1</th>\n",
       "      <td>Air India</td>\n",
       "      <td>Kolkata</td>\n",
       "      <td>Banglore</td>\n",
       "      <td>CCU → IXR → BBI → BLR</td>\n",
       "      <td>7h 25m</td>\n",
       "      <td>2 stops</td>\n",
       "      <td>No info</td>\n",
       "      <td>7662</td>\n",
       "      <td>5</td>\n",
       "      <td>1</td>\n",
       "      <td>5</td>\n",
       "      <td>50</td>\n",
       "      <td>13</td>\n",
       "      <td>15</td>\n",
       "    </tr>\n",
       "    <tr>\n",
       "      <th>2</th>\n",
       "      <td>Jet Airways</td>\n",
       "      <td>Delhi</td>\n",
       "      <td>Cochin</td>\n",
       "      <td>DEL → LKO → BOM → COK</td>\n",
       "      <td>19h</td>\n",
       "      <td>2 stops</td>\n",
       "      <td>No info</td>\n",
       "      <td>13882</td>\n",
       "      <td>6</td>\n",
       "      <td>9</td>\n",
       "      <td>9</td>\n",
       "      <td>25</td>\n",
       "      <td>4</td>\n",
       "      <td>25</td>\n",
       "    </tr>\n",
       "    <tr>\n",
       "      <th>3</th>\n",
       "      <td>IndiGo</td>\n",
       "      <td>Kolkata</td>\n",
       "      <td>Banglore</td>\n",
       "      <td>CCU → NAG → BLR</td>\n",
       "      <td>5h 25m</td>\n",
       "      <td>1 stop</td>\n",
       "      <td>No info</td>\n",
       "      <td>6218</td>\n",
       "      <td>5</td>\n",
       "      <td>12</td>\n",
       "      <td>18</td>\n",
       "      <td>5</td>\n",
       "      <td>23</td>\n",
       "      <td>30</td>\n",
       "    </tr>\n",
       "    <tr>\n",
       "      <th>4</th>\n",
       "      <td>IndiGo</td>\n",
       "      <td>Banglore</td>\n",
       "      <td>Delhi</td>\n",
       "      <td>BLR → NAG → DEL</td>\n",
       "      <td>4h 45m</td>\n",
       "      <td>1 stop</td>\n",
       "      <td>No info</td>\n",
       "      <td>13302</td>\n",
       "      <td>3</td>\n",
       "      <td>1</td>\n",
       "      <td>16</td>\n",
       "      <td>50</td>\n",
       "      <td>21</td>\n",
       "      <td>35</td>\n",
       "    </tr>\n",
       "    <tr>\n",
       "      <th>...</th>\n",
       "      <td>...</td>\n",
       "      <td>...</td>\n",
       "      <td>...</td>\n",
       "      <td>...</td>\n",
       "      <td>...</td>\n",
       "      <td>...</td>\n",
       "      <td>...</td>\n",
       "      <td>...</td>\n",
       "      <td>...</td>\n",
       "      <td>...</td>\n",
       "      <td>...</td>\n",
       "      <td>...</td>\n",
       "      <td>...</td>\n",
       "      <td>...</td>\n",
       "    </tr>\n",
       "    <tr>\n",
       "      <th>10678</th>\n",
       "      <td>Air Asia</td>\n",
       "      <td>Kolkata</td>\n",
       "      <td>Banglore</td>\n",
       "      <td>CCU → BLR</td>\n",
       "      <td>2h 30m</td>\n",
       "      <td>non-stop</td>\n",
       "      <td>No info</td>\n",
       "      <td>4107</td>\n",
       "      <td>4</td>\n",
       "      <td>9</td>\n",
       "      <td>19</td>\n",
       "      <td>55</td>\n",
       "      <td>22</td>\n",
       "      <td>25</td>\n",
       "    </tr>\n",
       "    <tr>\n",
       "      <th>10679</th>\n",
       "      <td>Air India</td>\n",
       "      <td>Kolkata</td>\n",
       "      <td>Banglore</td>\n",
       "      <td>CCU → BLR</td>\n",
       "      <td>2h 35m</td>\n",
       "      <td>non-stop</td>\n",
       "      <td>No info</td>\n",
       "      <td>4145</td>\n",
       "      <td>27</td>\n",
       "      <td>4</td>\n",
       "      <td>20</td>\n",
       "      <td>45</td>\n",
       "      <td>23</td>\n",
       "      <td>20</td>\n",
       "    </tr>\n",
       "    <tr>\n",
       "      <th>10680</th>\n",
       "      <td>Jet Airways</td>\n",
       "      <td>Banglore</td>\n",
       "      <td>Delhi</td>\n",
       "      <td>BLR → DEL</td>\n",
       "      <td>3h</td>\n",
       "      <td>non-stop</td>\n",
       "      <td>No info</td>\n",
       "      <td>7229</td>\n",
       "      <td>27</td>\n",
       "      <td>4</td>\n",
       "      <td>8</td>\n",
       "      <td>20</td>\n",
       "      <td>11</td>\n",
       "      <td>20</td>\n",
       "    </tr>\n",
       "    <tr>\n",
       "      <th>10681</th>\n",
       "      <td>Vistara</td>\n",
       "      <td>Banglore</td>\n",
       "      <td>Delhi</td>\n",
       "      <td>BLR → DEL</td>\n",
       "      <td>2h 40m</td>\n",
       "      <td>non-stop</td>\n",
       "      <td>No info</td>\n",
       "      <td>12648</td>\n",
       "      <td>3</td>\n",
       "      <td>1</td>\n",
       "      <td>11</td>\n",
       "      <td>30</td>\n",
       "      <td>14</td>\n",
       "      <td>10</td>\n",
       "    </tr>\n",
       "    <tr>\n",
       "      <th>10682</th>\n",
       "      <td>Air India</td>\n",
       "      <td>Delhi</td>\n",
       "      <td>Cochin</td>\n",
       "      <td>DEL → GOI → BOM → COK</td>\n",
       "      <td>8h 20m</td>\n",
       "      <td>2 stops</td>\n",
       "      <td>No info</td>\n",
       "      <td>11753</td>\n",
       "      <td>5</td>\n",
       "      <td>9</td>\n",
       "      <td>10</td>\n",
       "      <td>55</td>\n",
       "      <td>19</td>\n",
       "      <td>15</td>\n",
       "    </tr>\n",
       "  </tbody>\n",
       "</table>\n",
       "<p>10683 rows × 14 columns</p>\n",
       "</div>"
      ],
      "text/plain": [
       "           Airline    Source Destination                  Route Duration  \\\n",
       "0           IndiGo  Banglore       Delhi              BLR → DEL   2h 50m   \n",
       "1        Air India   Kolkata    Banglore  CCU → IXR → BBI → BLR   7h 25m   \n",
       "2      Jet Airways     Delhi      Cochin  DEL → LKO → BOM → COK      19h   \n",
       "3           IndiGo   Kolkata    Banglore        CCU → NAG → BLR   5h 25m   \n",
       "4           IndiGo  Banglore       Delhi        BLR → NAG → DEL   4h 45m   \n",
       "...            ...       ...         ...                    ...      ...   \n",
       "10678     Air Asia   Kolkata    Banglore              CCU → BLR   2h 30m   \n",
       "10679    Air India   Kolkata    Banglore              CCU → BLR   2h 35m   \n",
       "10680  Jet Airways  Banglore       Delhi              BLR → DEL       3h   \n",
       "10681      Vistara  Banglore       Delhi              BLR → DEL   2h 40m   \n",
       "10682    Air India     Delhi      Cochin  DEL → GOI → BOM → COK   8h 20m   \n",
       "\n",
       "      Total_Stops Additional_Info  Price  day_of_journey  month_of_journey  \\\n",
       "0        non-stop         No info   3897              24                 3   \n",
       "1         2 stops         No info   7662               5                 1   \n",
       "2         2 stops         No info  13882               6                 9   \n",
       "3          1 stop         No info   6218               5                12   \n",
       "4          1 stop         No info  13302               3                 1   \n",
       "...           ...             ...    ...             ...               ...   \n",
       "10678    non-stop         No info   4107               4                 9   \n",
       "10679    non-stop         No info   4145              27                 4   \n",
       "10680    non-stop         No info   7229              27                 4   \n",
       "10681    non-stop         No info  12648               3                 1   \n",
       "10682     2 stops         No info  11753               5                 9   \n",
       "\n",
       "       Dep_hour  Dep_min  arrival_hour  arrival_min  \n",
       "0            22       20             1           10  \n",
       "1             5       50            13           15  \n",
       "2             9       25             4           25  \n",
       "3            18        5            23           30  \n",
       "4            16       50            21           35  \n",
       "...         ...      ...           ...          ...  \n",
       "10678        19       55            22           25  \n",
       "10679        20       45            23           20  \n",
       "10680         8       20            11           20  \n",
       "10681        11       30            14           10  \n",
       "10682        10       55            19           15  \n",
       "\n",
       "[10683 rows x 14 columns]"
      ]
     },
     "execution_count": 22,
     "metadata": {},
     "output_type": "execute_result"
    }
   ],
   "source": [
    "df"
   ]
  },
  {
   "cell_type": "markdown",
   "id": "be0eeb72",
   "metadata": {},
   "source": [
    "# EVAL\n",
    "eval('2+5')"
   ]
  },
  {
   "cell_type": "code",
   "execution_count": 23,
   "id": "74f973ce",
   "metadata": {},
   "outputs": [],
   "source": [
    "df['Duration']=df['Duration'].str.replace('h','*60').str.replace(' ','+').str.replace('m','*1').apply(eval)"
   ]
  },
  {
   "cell_type": "code",
   "execution_count": 24,
   "id": "638967e5",
   "metadata": {},
   "outputs": [
    {
     "data": {
      "text/html": [
       "<div>\n",
       "<style scoped>\n",
       "    .dataframe tbody tr th:only-of-type {\n",
       "        vertical-align: middle;\n",
       "    }\n",
       "\n",
       "    .dataframe tbody tr th {\n",
       "        vertical-align: top;\n",
       "    }\n",
       "\n",
       "    .dataframe thead th {\n",
       "        text-align: right;\n",
       "    }\n",
       "</style>\n",
       "<table border=\"1\" class=\"dataframe\">\n",
       "  <thead>\n",
       "    <tr style=\"text-align: right;\">\n",
       "      <th></th>\n",
       "      <th>Airline</th>\n",
       "      <th>Source</th>\n",
       "      <th>Destination</th>\n",
       "      <th>Route</th>\n",
       "      <th>Duration</th>\n",
       "      <th>Total_Stops</th>\n",
       "      <th>Additional_Info</th>\n",
       "      <th>Price</th>\n",
       "      <th>day_of_journey</th>\n",
       "      <th>month_of_journey</th>\n",
       "      <th>Dep_hour</th>\n",
       "      <th>Dep_min</th>\n",
       "      <th>arrival_hour</th>\n",
       "      <th>arrival_min</th>\n",
       "    </tr>\n",
       "  </thead>\n",
       "  <tbody>\n",
       "    <tr>\n",
       "      <th>0</th>\n",
       "      <td>IndiGo</td>\n",
       "      <td>Banglore</td>\n",
       "      <td>Delhi</td>\n",
       "      <td>BLR → DEL</td>\n",
       "      <td>170</td>\n",
       "      <td>non-stop</td>\n",
       "      <td>No info</td>\n",
       "      <td>3897</td>\n",
       "      <td>24</td>\n",
       "      <td>3</td>\n",
       "      <td>22</td>\n",
       "      <td>20</td>\n",
       "      <td>1</td>\n",
       "      <td>10</td>\n",
       "    </tr>\n",
       "    <tr>\n",
       "      <th>1</th>\n",
       "      <td>Air India</td>\n",
       "      <td>Kolkata</td>\n",
       "      <td>Banglore</td>\n",
       "      <td>CCU → IXR → BBI → BLR</td>\n",
       "      <td>445</td>\n",
       "      <td>2 stops</td>\n",
       "      <td>No info</td>\n",
       "      <td>7662</td>\n",
       "      <td>5</td>\n",
       "      <td>1</td>\n",
       "      <td>5</td>\n",
       "      <td>50</td>\n",
       "      <td>13</td>\n",
       "      <td>15</td>\n",
       "    </tr>\n",
       "    <tr>\n",
       "      <th>2</th>\n",
       "      <td>Jet Airways</td>\n",
       "      <td>Delhi</td>\n",
       "      <td>Cochin</td>\n",
       "      <td>DEL → LKO → BOM → COK</td>\n",
       "      <td>1140</td>\n",
       "      <td>2 stops</td>\n",
       "      <td>No info</td>\n",
       "      <td>13882</td>\n",
       "      <td>6</td>\n",
       "      <td>9</td>\n",
       "      <td>9</td>\n",
       "      <td>25</td>\n",
       "      <td>4</td>\n",
       "      <td>25</td>\n",
       "    </tr>\n",
       "    <tr>\n",
       "      <th>3</th>\n",
       "      <td>IndiGo</td>\n",
       "      <td>Kolkata</td>\n",
       "      <td>Banglore</td>\n",
       "      <td>CCU → NAG → BLR</td>\n",
       "      <td>325</td>\n",
       "      <td>1 stop</td>\n",
       "      <td>No info</td>\n",
       "      <td>6218</td>\n",
       "      <td>5</td>\n",
       "      <td>12</td>\n",
       "      <td>18</td>\n",
       "      <td>5</td>\n",
       "      <td>23</td>\n",
       "      <td>30</td>\n",
       "    </tr>\n",
       "    <tr>\n",
       "      <th>4</th>\n",
       "      <td>IndiGo</td>\n",
       "      <td>Banglore</td>\n",
       "      <td>Delhi</td>\n",
       "      <td>BLR → NAG → DEL</td>\n",
       "      <td>285</td>\n",
       "      <td>1 stop</td>\n",
       "      <td>No info</td>\n",
       "      <td>13302</td>\n",
       "      <td>3</td>\n",
       "      <td>1</td>\n",
       "      <td>16</td>\n",
       "      <td>50</td>\n",
       "      <td>21</td>\n",
       "      <td>35</td>\n",
       "    </tr>\n",
       "    <tr>\n",
       "      <th>...</th>\n",
       "      <td>...</td>\n",
       "      <td>...</td>\n",
       "      <td>...</td>\n",
       "      <td>...</td>\n",
       "      <td>...</td>\n",
       "      <td>...</td>\n",
       "      <td>...</td>\n",
       "      <td>...</td>\n",
       "      <td>...</td>\n",
       "      <td>...</td>\n",
       "      <td>...</td>\n",
       "      <td>...</td>\n",
       "      <td>...</td>\n",
       "      <td>...</td>\n",
       "    </tr>\n",
       "    <tr>\n",
       "      <th>10678</th>\n",
       "      <td>Air Asia</td>\n",
       "      <td>Kolkata</td>\n",
       "      <td>Banglore</td>\n",
       "      <td>CCU → BLR</td>\n",
       "      <td>150</td>\n",
       "      <td>non-stop</td>\n",
       "      <td>No info</td>\n",
       "      <td>4107</td>\n",
       "      <td>4</td>\n",
       "      <td>9</td>\n",
       "      <td>19</td>\n",
       "      <td>55</td>\n",
       "      <td>22</td>\n",
       "      <td>25</td>\n",
       "    </tr>\n",
       "    <tr>\n",
       "      <th>10679</th>\n",
       "      <td>Air India</td>\n",
       "      <td>Kolkata</td>\n",
       "      <td>Banglore</td>\n",
       "      <td>CCU → BLR</td>\n",
       "      <td>155</td>\n",
       "      <td>non-stop</td>\n",
       "      <td>No info</td>\n",
       "      <td>4145</td>\n",
       "      <td>27</td>\n",
       "      <td>4</td>\n",
       "      <td>20</td>\n",
       "      <td>45</td>\n",
       "      <td>23</td>\n",
       "      <td>20</td>\n",
       "    </tr>\n",
       "    <tr>\n",
       "      <th>10680</th>\n",
       "      <td>Jet Airways</td>\n",
       "      <td>Banglore</td>\n",
       "      <td>Delhi</td>\n",
       "      <td>BLR → DEL</td>\n",
       "      <td>180</td>\n",
       "      <td>non-stop</td>\n",
       "      <td>No info</td>\n",
       "      <td>7229</td>\n",
       "      <td>27</td>\n",
       "      <td>4</td>\n",
       "      <td>8</td>\n",
       "      <td>20</td>\n",
       "      <td>11</td>\n",
       "      <td>20</td>\n",
       "    </tr>\n",
       "    <tr>\n",
       "      <th>10681</th>\n",
       "      <td>Vistara</td>\n",
       "      <td>Banglore</td>\n",
       "      <td>Delhi</td>\n",
       "      <td>BLR → DEL</td>\n",
       "      <td>160</td>\n",
       "      <td>non-stop</td>\n",
       "      <td>No info</td>\n",
       "      <td>12648</td>\n",
       "      <td>3</td>\n",
       "      <td>1</td>\n",
       "      <td>11</td>\n",
       "      <td>30</td>\n",
       "      <td>14</td>\n",
       "      <td>10</td>\n",
       "    </tr>\n",
       "    <tr>\n",
       "      <th>10682</th>\n",
       "      <td>Air India</td>\n",
       "      <td>Delhi</td>\n",
       "      <td>Cochin</td>\n",
       "      <td>DEL → GOI → BOM → COK</td>\n",
       "      <td>500</td>\n",
       "      <td>2 stops</td>\n",
       "      <td>No info</td>\n",
       "      <td>11753</td>\n",
       "      <td>5</td>\n",
       "      <td>9</td>\n",
       "      <td>10</td>\n",
       "      <td>55</td>\n",
       "      <td>19</td>\n",
       "      <td>15</td>\n",
       "    </tr>\n",
       "  </tbody>\n",
       "</table>\n",
       "<p>10683 rows × 14 columns</p>\n",
       "</div>"
      ],
      "text/plain": [
       "           Airline    Source Destination                  Route  Duration  \\\n",
       "0           IndiGo  Banglore       Delhi              BLR → DEL       170   \n",
       "1        Air India   Kolkata    Banglore  CCU → IXR → BBI → BLR       445   \n",
       "2      Jet Airways     Delhi      Cochin  DEL → LKO → BOM → COK      1140   \n",
       "3           IndiGo   Kolkata    Banglore        CCU → NAG → BLR       325   \n",
       "4           IndiGo  Banglore       Delhi        BLR → NAG → DEL       285   \n",
       "...            ...       ...         ...                    ...       ...   \n",
       "10678     Air Asia   Kolkata    Banglore              CCU → BLR       150   \n",
       "10679    Air India   Kolkata    Banglore              CCU → BLR       155   \n",
       "10680  Jet Airways  Banglore       Delhi              BLR → DEL       180   \n",
       "10681      Vistara  Banglore       Delhi              BLR → DEL       160   \n",
       "10682    Air India     Delhi      Cochin  DEL → GOI → BOM → COK       500   \n",
       "\n",
       "      Total_Stops Additional_Info  Price  day_of_journey  month_of_journey  \\\n",
       "0        non-stop         No info   3897              24                 3   \n",
       "1         2 stops         No info   7662               5                 1   \n",
       "2         2 stops         No info  13882               6                 9   \n",
       "3          1 stop         No info   6218               5                12   \n",
       "4          1 stop         No info  13302               3                 1   \n",
       "...           ...             ...    ...             ...               ...   \n",
       "10678    non-stop         No info   4107               4                 9   \n",
       "10679    non-stop         No info   4145              27                 4   \n",
       "10680    non-stop         No info   7229              27                 4   \n",
       "10681    non-stop         No info  12648               3                 1   \n",
       "10682     2 stops         No info  11753               5                 9   \n",
       "\n",
       "       Dep_hour  Dep_min  arrival_hour  arrival_min  \n",
       "0            22       20             1           10  \n",
       "1             5       50            13           15  \n",
       "2             9       25             4           25  \n",
       "3            18        5            23           30  \n",
       "4            16       50            21           35  \n",
       "...         ...      ...           ...          ...  \n",
       "10678        19       55            22           25  \n",
       "10679        20       45            23           20  \n",
       "10680         8       20            11           20  \n",
       "10681        11       30            14           10  \n",
       "10682        10       55            19           15  \n",
       "\n",
       "[10683 rows x 14 columns]"
      ]
     },
     "execution_count": 24,
     "metadata": {},
     "output_type": "execute_result"
    }
   ],
   "source": [
    "df"
   ]
  },
  {
   "cell_type": "code",
   "execution_count": 25,
   "id": "c0ceb402",
   "metadata": {},
   "outputs": [],
   "source": [
    "df.replace({\"non-stop\":0,\"1 stop\":1,\"2 stops\":2,\"3 stops\":3,\"4 stops\":4},inplace=True)\n"
   ]
  },
  {
   "cell_type": "code",
   "execution_count": 26,
   "id": "cf360641",
   "metadata": {},
   "outputs": [
    {
     "data": {
      "text/html": [
       "<div>\n",
       "<style scoped>\n",
       "    .dataframe tbody tr th:only-of-type {\n",
       "        vertical-align: middle;\n",
       "    }\n",
       "\n",
       "    .dataframe tbody tr th {\n",
       "        vertical-align: top;\n",
       "    }\n",
       "\n",
       "    .dataframe thead th {\n",
       "        text-align: right;\n",
       "    }\n",
       "</style>\n",
       "<table border=\"1\" class=\"dataframe\">\n",
       "  <thead>\n",
       "    <tr style=\"text-align: right;\">\n",
       "      <th></th>\n",
       "      <th>Airline</th>\n",
       "      <th>Source</th>\n",
       "      <th>Destination</th>\n",
       "      <th>Route</th>\n",
       "      <th>Duration</th>\n",
       "      <th>Total_Stops</th>\n",
       "      <th>Additional_Info</th>\n",
       "      <th>Price</th>\n",
       "      <th>day_of_journey</th>\n",
       "      <th>month_of_journey</th>\n",
       "      <th>Dep_hour</th>\n",
       "      <th>Dep_min</th>\n",
       "      <th>arrival_hour</th>\n",
       "      <th>arrival_min</th>\n",
       "    </tr>\n",
       "  </thead>\n",
       "  <tbody>\n",
       "    <tr>\n",
       "      <th>0</th>\n",
       "      <td>IndiGo</td>\n",
       "      <td>Banglore</td>\n",
       "      <td>Delhi</td>\n",
       "      <td>BLR → DEL</td>\n",
       "      <td>170</td>\n",
       "      <td>0</td>\n",
       "      <td>No info</td>\n",
       "      <td>3897</td>\n",
       "      <td>24</td>\n",
       "      <td>3</td>\n",
       "      <td>22</td>\n",
       "      <td>20</td>\n",
       "      <td>1</td>\n",
       "      <td>10</td>\n",
       "    </tr>\n",
       "    <tr>\n",
       "      <th>1</th>\n",
       "      <td>Air India</td>\n",
       "      <td>Kolkata</td>\n",
       "      <td>Banglore</td>\n",
       "      <td>CCU → IXR → BBI → BLR</td>\n",
       "      <td>445</td>\n",
       "      <td>2</td>\n",
       "      <td>No info</td>\n",
       "      <td>7662</td>\n",
       "      <td>5</td>\n",
       "      <td>1</td>\n",
       "      <td>5</td>\n",
       "      <td>50</td>\n",
       "      <td>13</td>\n",
       "      <td>15</td>\n",
       "    </tr>\n",
       "    <tr>\n",
       "      <th>2</th>\n",
       "      <td>Jet Airways</td>\n",
       "      <td>Delhi</td>\n",
       "      <td>Cochin</td>\n",
       "      <td>DEL → LKO → BOM → COK</td>\n",
       "      <td>1140</td>\n",
       "      <td>2</td>\n",
       "      <td>No info</td>\n",
       "      <td>13882</td>\n",
       "      <td>6</td>\n",
       "      <td>9</td>\n",
       "      <td>9</td>\n",
       "      <td>25</td>\n",
       "      <td>4</td>\n",
       "      <td>25</td>\n",
       "    </tr>\n",
       "    <tr>\n",
       "      <th>3</th>\n",
       "      <td>IndiGo</td>\n",
       "      <td>Kolkata</td>\n",
       "      <td>Banglore</td>\n",
       "      <td>CCU → NAG → BLR</td>\n",
       "      <td>325</td>\n",
       "      <td>1</td>\n",
       "      <td>No info</td>\n",
       "      <td>6218</td>\n",
       "      <td>5</td>\n",
       "      <td>12</td>\n",
       "      <td>18</td>\n",
       "      <td>5</td>\n",
       "      <td>23</td>\n",
       "      <td>30</td>\n",
       "    </tr>\n",
       "    <tr>\n",
       "      <th>4</th>\n",
       "      <td>IndiGo</td>\n",
       "      <td>Banglore</td>\n",
       "      <td>Delhi</td>\n",
       "      <td>BLR → NAG → DEL</td>\n",
       "      <td>285</td>\n",
       "      <td>1</td>\n",
       "      <td>No info</td>\n",
       "      <td>13302</td>\n",
       "      <td>3</td>\n",
       "      <td>1</td>\n",
       "      <td>16</td>\n",
       "      <td>50</td>\n",
       "      <td>21</td>\n",
       "      <td>35</td>\n",
       "    </tr>\n",
       "    <tr>\n",
       "      <th>...</th>\n",
       "      <td>...</td>\n",
       "      <td>...</td>\n",
       "      <td>...</td>\n",
       "      <td>...</td>\n",
       "      <td>...</td>\n",
       "      <td>...</td>\n",
       "      <td>...</td>\n",
       "      <td>...</td>\n",
       "      <td>...</td>\n",
       "      <td>...</td>\n",
       "      <td>...</td>\n",
       "      <td>...</td>\n",
       "      <td>...</td>\n",
       "      <td>...</td>\n",
       "    </tr>\n",
       "    <tr>\n",
       "      <th>10678</th>\n",
       "      <td>Air Asia</td>\n",
       "      <td>Kolkata</td>\n",
       "      <td>Banglore</td>\n",
       "      <td>CCU → BLR</td>\n",
       "      <td>150</td>\n",
       "      <td>0</td>\n",
       "      <td>No info</td>\n",
       "      <td>4107</td>\n",
       "      <td>4</td>\n",
       "      <td>9</td>\n",
       "      <td>19</td>\n",
       "      <td>55</td>\n",
       "      <td>22</td>\n",
       "      <td>25</td>\n",
       "    </tr>\n",
       "    <tr>\n",
       "      <th>10679</th>\n",
       "      <td>Air India</td>\n",
       "      <td>Kolkata</td>\n",
       "      <td>Banglore</td>\n",
       "      <td>CCU → BLR</td>\n",
       "      <td>155</td>\n",
       "      <td>0</td>\n",
       "      <td>No info</td>\n",
       "      <td>4145</td>\n",
       "      <td>27</td>\n",
       "      <td>4</td>\n",
       "      <td>20</td>\n",
       "      <td>45</td>\n",
       "      <td>23</td>\n",
       "      <td>20</td>\n",
       "    </tr>\n",
       "    <tr>\n",
       "      <th>10680</th>\n",
       "      <td>Jet Airways</td>\n",
       "      <td>Banglore</td>\n",
       "      <td>Delhi</td>\n",
       "      <td>BLR → DEL</td>\n",
       "      <td>180</td>\n",
       "      <td>0</td>\n",
       "      <td>No info</td>\n",
       "      <td>7229</td>\n",
       "      <td>27</td>\n",
       "      <td>4</td>\n",
       "      <td>8</td>\n",
       "      <td>20</td>\n",
       "      <td>11</td>\n",
       "      <td>20</td>\n",
       "    </tr>\n",
       "    <tr>\n",
       "      <th>10681</th>\n",
       "      <td>Vistara</td>\n",
       "      <td>Banglore</td>\n",
       "      <td>Delhi</td>\n",
       "      <td>BLR → DEL</td>\n",
       "      <td>160</td>\n",
       "      <td>0</td>\n",
       "      <td>No info</td>\n",
       "      <td>12648</td>\n",
       "      <td>3</td>\n",
       "      <td>1</td>\n",
       "      <td>11</td>\n",
       "      <td>30</td>\n",
       "      <td>14</td>\n",
       "      <td>10</td>\n",
       "    </tr>\n",
       "    <tr>\n",
       "      <th>10682</th>\n",
       "      <td>Air India</td>\n",
       "      <td>Delhi</td>\n",
       "      <td>Cochin</td>\n",
       "      <td>DEL → GOI → BOM → COK</td>\n",
       "      <td>500</td>\n",
       "      <td>2</td>\n",
       "      <td>No info</td>\n",
       "      <td>11753</td>\n",
       "      <td>5</td>\n",
       "      <td>9</td>\n",
       "      <td>10</td>\n",
       "      <td>55</td>\n",
       "      <td>19</td>\n",
       "      <td>15</td>\n",
       "    </tr>\n",
       "  </tbody>\n",
       "</table>\n",
       "<p>10683 rows × 14 columns</p>\n",
       "</div>"
      ],
      "text/plain": [
       "           Airline    Source Destination                  Route  Duration  \\\n",
       "0           IndiGo  Banglore       Delhi              BLR → DEL       170   \n",
       "1        Air India   Kolkata    Banglore  CCU → IXR → BBI → BLR       445   \n",
       "2      Jet Airways     Delhi      Cochin  DEL → LKO → BOM → COK      1140   \n",
       "3           IndiGo   Kolkata    Banglore        CCU → NAG → BLR       325   \n",
       "4           IndiGo  Banglore       Delhi        BLR → NAG → DEL       285   \n",
       "...            ...       ...         ...                    ...       ...   \n",
       "10678     Air Asia   Kolkata    Banglore              CCU → BLR       150   \n",
       "10679    Air India   Kolkata    Banglore              CCU → BLR       155   \n",
       "10680  Jet Airways  Banglore       Delhi              BLR → DEL       180   \n",
       "10681      Vistara  Banglore       Delhi              BLR → DEL       160   \n",
       "10682    Air India     Delhi      Cochin  DEL → GOI → BOM → COK       500   \n",
       "\n",
       "       Total_Stops Additional_Info  Price  day_of_journey  month_of_journey  \\\n",
       "0                0         No info   3897              24                 3   \n",
       "1                2         No info   7662               5                 1   \n",
       "2                2         No info  13882               6                 9   \n",
       "3                1         No info   6218               5                12   \n",
       "4                1         No info  13302               3                 1   \n",
       "...            ...             ...    ...             ...               ...   \n",
       "10678            0         No info   4107               4                 9   \n",
       "10679            0         No info   4145              27                 4   \n",
       "10680            0         No info   7229              27                 4   \n",
       "10681            0         No info  12648               3                 1   \n",
       "10682            2         No info  11753               5                 9   \n",
       "\n",
       "       Dep_hour  Dep_min  arrival_hour  arrival_min  \n",
       "0            22       20             1           10  \n",
       "1             5       50            13           15  \n",
       "2             9       25             4           25  \n",
       "3            18        5            23           30  \n",
       "4            16       50            21           35  \n",
       "...         ...      ...           ...          ...  \n",
       "10678        19       55            22           25  \n",
       "10679        20       45            23           20  \n",
       "10680         8       20            11           20  \n",
       "10681        11       30            14           10  \n",
       "10682        10       55            19           15  \n",
       "\n",
       "[10683 rows x 14 columns]"
      ]
     },
     "execution_count": 26,
     "metadata": {},
     "output_type": "execute_result"
    }
   ],
   "source": [
    "df"
   ]
  },
  {
   "cell_type": "code",
   "execution_count": 27,
   "id": "74fa1c9f",
   "metadata": {},
   "outputs": [
    {
     "data": {
      "text/html": [
       "<div>\n",
       "<style scoped>\n",
       "    .dataframe tbody tr th:only-of-type {\n",
       "        vertical-align: middle;\n",
       "    }\n",
       "\n",
       "    .dataframe tbody tr th {\n",
       "        vertical-align: top;\n",
       "    }\n",
       "\n",
       "    .dataframe thead th {\n",
       "        text-align: right;\n",
       "    }\n",
       "</style>\n",
       "<table border=\"1\" class=\"dataframe\">\n",
       "  <thead>\n",
       "    <tr style=\"text-align: right;\">\n",
       "      <th></th>\n",
       "      <th>Airline</th>\n",
       "      <th>Source</th>\n",
       "      <th>Destination</th>\n",
       "      <th>Route</th>\n",
       "      <th>Duration</th>\n",
       "      <th>Total_Stops</th>\n",
       "      <th>Additional_Info</th>\n",
       "      <th>Price</th>\n",
       "      <th>day_of_journey</th>\n",
       "      <th>month_of_journey</th>\n",
       "      <th>Dep_hour</th>\n",
       "      <th>Dep_min</th>\n",
       "      <th>arrival_hour</th>\n",
       "      <th>arrival_min</th>\n",
       "    </tr>\n",
       "  </thead>\n",
       "  <tbody>\n",
       "    <tr>\n",
       "      <th>0</th>\n",
       "      <td>IndiGo</td>\n",
       "      <td>Banglore</td>\n",
       "      <td>Delhi</td>\n",
       "      <td>BLR → DEL</td>\n",
       "      <td>170</td>\n",
       "      <td>0</td>\n",
       "      <td>No info</td>\n",
       "      <td>3897</td>\n",
       "      <td>24</td>\n",
       "      <td>3</td>\n",
       "      <td>22</td>\n",
       "      <td>20</td>\n",
       "      <td>1</td>\n",
       "      <td>10</td>\n",
       "    </tr>\n",
       "    <tr>\n",
       "      <th>1</th>\n",
       "      <td>Air India</td>\n",
       "      <td>Kolkata</td>\n",
       "      <td>Banglore</td>\n",
       "      <td>CCU → IXR → BBI → BLR</td>\n",
       "      <td>445</td>\n",
       "      <td>2</td>\n",
       "      <td>No info</td>\n",
       "      <td>7662</td>\n",
       "      <td>5</td>\n",
       "      <td>1</td>\n",
       "      <td>5</td>\n",
       "      <td>50</td>\n",
       "      <td>13</td>\n",
       "      <td>15</td>\n",
       "    </tr>\n",
       "    <tr>\n",
       "      <th>2</th>\n",
       "      <td>Jet Airways</td>\n",
       "      <td>Delhi</td>\n",
       "      <td>Cochin</td>\n",
       "      <td>DEL → LKO → BOM → COK</td>\n",
       "      <td>1140</td>\n",
       "      <td>2</td>\n",
       "      <td>No info</td>\n",
       "      <td>13882</td>\n",
       "      <td>6</td>\n",
       "      <td>9</td>\n",
       "      <td>9</td>\n",
       "      <td>25</td>\n",
       "      <td>4</td>\n",
       "      <td>25</td>\n",
       "    </tr>\n",
       "    <tr>\n",
       "      <th>3</th>\n",
       "      <td>IndiGo</td>\n",
       "      <td>Kolkata</td>\n",
       "      <td>Banglore</td>\n",
       "      <td>CCU → NAG → BLR</td>\n",
       "      <td>325</td>\n",
       "      <td>1</td>\n",
       "      <td>No info</td>\n",
       "      <td>6218</td>\n",
       "      <td>5</td>\n",
       "      <td>12</td>\n",
       "      <td>18</td>\n",
       "      <td>5</td>\n",
       "      <td>23</td>\n",
       "      <td>30</td>\n",
       "    </tr>\n",
       "    <tr>\n",
       "      <th>4</th>\n",
       "      <td>IndiGo</td>\n",
       "      <td>Banglore</td>\n",
       "      <td>Delhi</td>\n",
       "      <td>BLR → NAG → DEL</td>\n",
       "      <td>285</td>\n",
       "      <td>1</td>\n",
       "      <td>No info</td>\n",
       "      <td>13302</td>\n",
       "      <td>3</td>\n",
       "      <td>1</td>\n",
       "      <td>16</td>\n",
       "      <td>50</td>\n",
       "      <td>21</td>\n",
       "      <td>35</td>\n",
       "    </tr>\n",
       "    <tr>\n",
       "      <th>...</th>\n",
       "      <td>...</td>\n",
       "      <td>...</td>\n",
       "      <td>...</td>\n",
       "      <td>...</td>\n",
       "      <td>...</td>\n",
       "      <td>...</td>\n",
       "      <td>...</td>\n",
       "      <td>...</td>\n",
       "      <td>...</td>\n",
       "      <td>...</td>\n",
       "      <td>...</td>\n",
       "      <td>...</td>\n",
       "      <td>...</td>\n",
       "      <td>...</td>\n",
       "    </tr>\n",
       "    <tr>\n",
       "      <th>10678</th>\n",
       "      <td>Air Asia</td>\n",
       "      <td>Kolkata</td>\n",
       "      <td>Banglore</td>\n",
       "      <td>CCU → BLR</td>\n",
       "      <td>150</td>\n",
       "      <td>0</td>\n",
       "      <td>No info</td>\n",
       "      <td>4107</td>\n",
       "      <td>4</td>\n",
       "      <td>9</td>\n",
       "      <td>19</td>\n",
       "      <td>55</td>\n",
       "      <td>22</td>\n",
       "      <td>25</td>\n",
       "    </tr>\n",
       "    <tr>\n",
       "      <th>10679</th>\n",
       "      <td>Air India</td>\n",
       "      <td>Kolkata</td>\n",
       "      <td>Banglore</td>\n",
       "      <td>CCU → BLR</td>\n",
       "      <td>155</td>\n",
       "      <td>0</td>\n",
       "      <td>No info</td>\n",
       "      <td>4145</td>\n",
       "      <td>27</td>\n",
       "      <td>4</td>\n",
       "      <td>20</td>\n",
       "      <td>45</td>\n",
       "      <td>23</td>\n",
       "      <td>20</td>\n",
       "    </tr>\n",
       "    <tr>\n",
       "      <th>10680</th>\n",
       "      <td>Jet Airways</td>\n",
       "      <td>Banglore</td>\n",
       "      <td>Delhi</td>\n",
       "      <td>BLR → DEL</td>\n",
       "      <td>180</td>\n",
       "      <td>0</td>\n",
       "      <td>No info</td>\n",
       "      <td>7229</td>\n",
       "      <td>27</td>\n",
       "      <td>4</td>\n",
       "      <td>8</td>\n",
       "      <td>20</td>\n",
       "      <td>11</td>\n",
       "      <td>20</td>\n",
       "    </tr>\n",
       "    <tr>\n",
       "      <th>10681</th>\n",
       "      <td>Vistara</td>\n",
       "      <td>Banglore</td>\n",
       "      <td>Delhi</td>\n",
       "      <td>BLR → DEL</td>\n",
       "      <td>160</td>\n",
       "      <td>0</td>\n",
       "      <td>No info</td>\n",
       "      <td>12648</td>\n",
       "      <td>3</td>\n",
       "      <td>1</td>\n",
       "      <td>11</td>\n",
       "      <td>30</td>\n",
       "      <td>14</td>\n",
       "      <td>10</td>\n",
       "    </tr>\n",
       "    <tr>\n",
       "      <th>10682</th>\n",
       "      <td>Air India</td>\n",
       "      <td>Delhi</td>\n",
       "      <td>Cochin</td>\n",
       "      <td>DEL → GOI → BOM → COK</td>\n",
       "      <td>500</td>\n",
       "      <td>2</td>\n",
       "      <td>No info</td>\n",
       "      <td>11753</td>\n",
       "      <td>5</td>\n",
       "      <td>9</td>\n",
       "      <td>10</td>\n",
       "      <td>55</td>\n",
       "      <td>19</td>\n",
       "      <td>15</td>\n",
       "    </tr>\n",
       "  </tbody>\n",
       "</table>\n",
       "<p>10683 rows × 14 columns</p>\n",
       "</div>"
      ],
      "text/plain": [
       "           Airline    Source Destination                  Route  Duration  \\\n",
       "0           IndiGo  Banglore       Delhi              BLR → DEL       170   \n",
       "1        Air India   Kolkata    Banglore  CCU → IXR → BBI → BLR       445   \n",
       "2      Jet Airways     Delhi      Cochin  DEL → LKO → BOM → COK      1140   \n",
       "3           IndiGo   Kolkata    Banglore        CCU → NAG → BLR       325   \n",
       "4           IndiGo  Banglore       Delhi        BLR → NAG → DEL       285   \n",
       "...            ...       ...         ...                    ...       ...   \n",
       "10678     Air Asia   Kolkata    Banglore              CCU → BLR       150   \n",
       "10679    Air India   Kolkata    Banglore              CCU → BLR       155   \n",
       "10680  Jet Airways  Banglore       Delhi              BLR → DEL       180   \n",
       "10681      Vistara  Banglore       Delhi              BLR → DEL       160   \n",
       "10682    Air India     Delhi      Cochin  DEL → GOI → BOM → COK       500   \n",
       "\n",
       "       Total_Stops Additional_Info  Price  day_of_journey  month_of_journey  \\\n",
       "0                0         No info   3897              24                 3   \n",
       "1                2         No info   7662               5                 1   \n",
       "2                2         No info  13882               6                 9   \n",
       "3                1         No info   6218               5                12   \n",
       "4                1         No info  13302               3                 1   \n",
       "...            ...             ...    ...             ...               ...   \n",
       "10678            0         No info   4107               4                 9   \n",
       "10679            0         No info   4145              27                 4   \n",
       "10680            0         No info   7229              27                 4   \n",
       "10681            0         No info  12648               3                 1   \n",
       "10682            2         No info  11753               5                 9   \n",
       "\n",
       "       Dep_hour  Dep_min  arrival_hour  arrival_min  \n",
       "0            22       20             1           10  \n",
       "1             5       50            13           15  \n",
       "2             9       25             4           25  \n",
       "3            18        5            23           30  \n",
       "4            16       50            21           35  \n",
       "...         ...      ...           ...          ...  \n",
       "10678        19       55            22           25  \n",
       "10679        20       45            23           20  \n",
       "10680         8       20            11           20  \n",
       "10681        11       30            14           10  \n",
       "10682        10       55            19           15  \n",
       "\n",
       "[10683 rows x 14 columns]"
      ]
     },
     "execution_count": 27,
     "metadata": {},
     "output_type": "execute_result"
    }
   ],
   "source": [
    "df"
   ]
  },
  {
   "cell_type": "code",
   "execution_count": 28,
   "id": "7776f8df",
   "metadata": {},
   "outputs": [
    {
     "data": {
      "text/html": [
       "<div>\n",
       "<style scoped>\n",
       "    .dataframe tbody tr th:only-of-type {\n",
       "        vertical-align: middle;\n",
       "    }\n",
       "\n",
       "    .dataframe tbody tr th {\n",
       "        vertical-align: top;\n",
       "    }\n",
       "\n",
       "    .dataframe thead th {\n",
       "        text-align: right;\n",
       "    }\n",
       "</style>\n",
       "<table border=\"1\" class=\"dataframe\">\n",
       "  <thead>\n",
       "    <tr style=\"text-align: right;\">\n",
       "      <th></th>\n",
       "      <th>Duration</th>\n",
       "      <th>Total_Stops</th>\n",
       "      <th>Price</th>\n",
       "      <th>day_of_journey</th>\n",
       "      <th>month_of_journey</th>\n",
       "      <th>Dep_hour</th>\n",
       "      <th>Dep_min</th>\n",
       "      <th>arrival_hour</th>\n",
       "      <th>arrival_min</th>\n",
       "    </tr>\n",
       "  </thead>\n",
       "  <tbody>\n",
       "    <tr>\n",
       "      <th>Duration</th>\n",
       "      <td>1.000000</td>\n",
       "      <td>0.738025</td>\n",
       "      <td>0.506371</td>\n",
       "      <td>-0.038480</td>\n",
       "      <td>0.055152</td>\n",
       "      <td>0.002001</td>\n",
       "      <td>-0.018938</td>\n",
       "      <td>0.051434</td>\n",
       "      <td>-0.069653</td>\n",
       "    </tr>\n",
       "    <tr>\n",
       "      <th>Total_Stops</th>\n",
       "      <td>0.738025</td>\n",
       "      <td>1.000000</td>\n",
       "      <td>0.603883</td>\n",
       "      <td>-0.024156</td>\n",
       "      <td>0.065498</td>\n",
       "      <td>-0.061490</td>\n",
       "      <td>-0.002591</td>\n",
       "      <td>0.038123</td>\n",
       "      <td>-0.106939</td>\n",
       "    </tr>\n",
       "    <tr>\n",
       "      <th>Price</th>\n",
       "      <td>0.506371</td>\n",
       "      <td>0.603883</td>\n",
       "      <td>1.000000</td>\n",
       "      <td>-0.165412</td>\n",
       "      <td>0.010700</td>\n",
       "      <td>0.006819</td>\n",
       "      <td>-0.024492</td>\n",
       "      <td>0.024264</td>\n",
       "      <td>-0.086155</td>\n",
       "    </tr>\n",
       "    <tr>\n",
       "      <th>day_of_journey</th>\n",
       "      <td>-0.038480</td>\n",
       "      <td>-0.024156</td>\n",
       "      <td>-0.165412</td>\n",
       "      <td>1.000000</td>\n",
       "      <td>-0.264899</td>\n",
       "      <td>-0.002251</td>\n",
       "      <td>-0.016521</td>\n",
       "      <td>-0.002124</td>\n",
       "      <td>-0.021424</td>\n",
       "    </tr>\n",
       "    <tr>\n",
       "      <th>month_of_journey</th>\n",
       "      <td>0.055152</td>\n",
       "      <td>0.065498</td>\n",
       "      <td>0.010700</td>\n",
       "      <td>-0.264899</td>\n",
       "      <td>1.000000</td>\n",
       "      <td>0.028180</td>\n",
       "      <td>0.002152</td>\n",
       "      <td>-0.004338</td>\n",
       "      <td>-0.025786</td>\n",
       "    </tr>\n",
       "    <tr>\n",
       "      <th>Dep_hour</th>\n",
       "      <td>0.002001</td>\n",
       "      <td>-0.061490</td>\n",
       "      <td>0.006819</td>\n",
       "      <td>-0.002251</td>\n",
       "      <td>0.028180</td>\n",
       "      <td>1.000000</td>\n",
       "      <td>-0.024806</td>\n",
       "      <td>0.005215</td>\n",
       "      <td>0.067909</td>\n",
       "    </tr>\n",
       "    <tr>\n",
       "      <th>Dep_min</th>\n",
       "      <td>-0.018938</td>\n",
       "      <td>-0.002591</td>\n",
       "      <td>-0.024492</td>\n",
       "      <td>-0.016521</td>\n",
       "      <td>0.002152</td>\n",
       "      <td>-0.024806</td>\n",
       "      <td>1.000000</td>\n",
       "      <td>0.043054</td>\n",
       "      <td>-0.017594</td>\n",
       "    </tr>\n",
       "    <tr>\n",
       "      <th>arrival_hour</th>\n",
       "      <td>0.051434</td>\n",
       "      <td>0.038123</td>\n",
       "      <td>0.024264</td>\n",
       "      <td>-0.002124</td>\n",
       "      <td>-0.004338</td>\n",
       "      <td>0.005215</td>\n",
       "      <td>0.043054</td>\n",
       "      <td>1.000000</td>\n",
       "      <td>-0.154362</td>\n",
       "    </tr>\n",
       "    <tr>\n",
       "      <th>arrival_min</th>\n",
       "      <td>-0.069653</td>\n",
       "      <td>-0.106939</td>\n",
       "      <td>-0.086155</td>\n",
       "      <td>-0.021424</td>\n",
       "      <td>-0.025786</td>\n",
       "      <td>0.067909</td>\n",
       "      <td>-0.017594</td>\n",
       "      <td>-0.154362</td>\n",
       "      <td>1.000000</td>\n",
       "    </tr>\n",
       "  </tbody>\n",
       "</table>\n",
       "</div>"
      ],
      "text/plain": [
       "                  Duration  Total_Stops     Price  day_of_journey  \\\n",
       "Duration          1.000000     0.738025  0.506371       -0.038480   \n",
       "Total_Stops       0.738025     1.000000  0.603883       -0.024156   \n",
       "Price             0.506371     0.603883  1.000000       -0.165412   \n",
       "day_of_journey   -0.038480    -0.024156 -0.165412        1.000000   \n",
       "month_of_journey  0.055152     0.065498  0.010700       -0.264899   \n",
       "Dep_hour          0.002001    -0.061490  0.006819       -0.002251   \n",
       "Dep_min          -0.018938    -0.002591 -0.024492       -0.016521   \n",
       "arrival_hour      0.051434     0.038123  0.024264       -0.002124   \n",
       "arrival_min      -0.069653    -0.106939 -0.086155       -0.021424   \n",
       "\n",
       "                  month_of_journey  Dep_hour   Dep_min  arrival_hour  \\\n",
       "Duration                  0.055152  0.002001 -0.018938      0.051434   \n",
       "Total_Stops               0.065498 -0.061490 -0.002591      0.038123   \n",
       "Price                     0.010700  0.006819 -0.024492      0.024264   \n",
       "day_of_journey           -0.264899 -0.002251 -0.016521     -0.002124   \n",
       "month_of_journey          1.000000  0.028180  0.002152     -0.004338   \n",
       "Dep_hour                  0.028180  1.000000 -0.024806      0.005215   \n",
       "Dep_min                   0.002152 -0.024806  1.000000      0.043054   \n",
       "arrival_hour             -0.004338  0.005215  0.043054      1.000000   \n",
       "arrival_min              -0.025786  0.067909 -0.017594     -0.154362   \n",
       "\n",
       "                  arrival_min  \n",
       "Duration            -0.069653  \n",
       "Total_Stops         -0.106939  \n",
       "Price               -0.086155  \n",
       "day_of_journey      -0.021424  \n",
       "month_of_journey    -0.025786  \n",
       "Dep_hour             0.067909  \n",
       "Dep_min             -0.017594  \n",
       "arrival_hour        -0.154362  \n",
       "arrival_min          1.000000  "
      ]
     },
     "execution_count": 28,
     "metadata": {},
     "output_type": "execute_result"
    }
   ],
   "source": [
    "df.corr()"
   ]
  },
  {
   "cell_type": "code",
   "execution_count": 29,
   "id": "0a4d4b90",
   "metadata": {},
   "outputs": [
    {
     "data": {
      "text/plain": [
       "<AxesSubplot:>"
      ]
     },
     "execution_count": 29,
     "metadata": {},
     "output_type": "execute_result"
    },
    {
     "data": {
      "image/png": "[encoded data removed]",
      "text/plain": [
       "<Figure size 432x288 with 2 Axes>"
      ]
     },
     "metadata": {
      "needs_background": "light"
     },
     "output_type": "display_data"
    }
   ],
   "source": [
    "# as the no of stop increse \n",
    "sns.heatmap(df.corr(),annot=True)"
   ]
  },
  {
   "cell_type": "code",
   "execution_count": 30,
   "id": "6d17f7a9",
   "metadata": {},
   "outputs": [],
   "source": [
    "# total stops and durations and related to the price"
   ]
  },
  {
   "cell_type": "code",
   "execution_count": 31,
   "id": "a93b0735",
   "metadata": {},
   "outputs": [
    {
     "data": {
      "text/html": [
       "<div>\n",
       "<style scoped>\n",
       "    .dataframe tbody tr th:only-of-type {\n",
       "        vertical-align: middle;\n",
       "    }\n",
       "\n",
       "    .dataframe tbody tr th {\n",
       "        vertical-align: top;\n",
       "    }\n",
       "\n",
       "    .dataframe thead th {\n",
       "        text-align: right;\n",
       "    }\n",
       "</style>\n",
       "<table border=\"1\" class=\"dataframe\">\n",
       "  <thead>\n",
       "    <tr style=\"text-align: right;\">\n",
       "      <th></th>\n",
       "      <th>count</th>\n",
       "      <th>mean</th>\n",
       "      <th>std</th>\n",
       "      <th>min</th>\n",
       "      <th>25%</th>\n",
       "      <th>50%</th>\n",
       "      <th>75%</th>\n",
       "      <th>max</th>\n",
       "    </tr>\n",
       "  </thead>\n",
       "  <tbody>\n",
       "    <tr>\n",
       "      <th>Duration</th>\n",
       "      <td>10683.0</td>\n",
       "      <td>643.093232</td>\n",
       "      <td>507.862001</td>\n",
       "      <td>5.0</td>\n",
       "      <td>170.0</td>\n",
       "      <td>520.0</td>\n",
       "      <td>930.0</td>\n",
       "      <td>2860.0</td>\n",
       "    </tr>\n",
       "    <tr>\n",
       "      <th>Total_Stops</th>\n",
       "      <td>10683.0</td>\n",
       "      <td>0.824207</td>\n",
       "      <td>0.675199</td>\n",
       "      <td>0.0</td>\n",
       "      <td>0.0</td>\n",
       "      <td>1.0</td>\n",
       "      <td>1.0</td>\n",
       "      <td>4.0</td>\n",
       "    </tr>\n",
       "    <tr>\n",
       "      <th>Price</th>\n",
       "      <td>10683.0</td>\n",
       "      <td>9087.064121</td>\n",
       "      <td>4611.359167</td>\n",
       "      <td>1759.0</td>\n",
       "      <td>5277.0</td>\n",
       "      <td>8372.0</td>\n",
       "      <td>12373.0</td>\n",
       "      <td>79512.0</td>\n",
       "    </tr>\n",
       "    <tr>\n",
       "      <th>day_of_journey</th>\n",
       "      <td>10683.0</td>\n",
       "      <td>12.682205</td>\n",
       "      <td>8.803701</td>\n",
       "      <td>3.0</td>\n",
       "      <td>5.0</td>\n",
       "      <td>6.0</td>\n",
       "      <td>21.0</td>\n",
       "      <td>27.0</td>\n",
       "    </tr>\n",
       "    <tr>\n",
       "      <th>month_of_journey</th>\n",
       "      <td>10683.0</td>\n",
       "      <td>5.534775</td>\n",
       "      <td>2.987489</td>\n",
       "      <td>1.0</td>\n",
       "      <td>3.0</td>\n",
       "      <td>5.0</td>\n",
       "      <td>6.0</td>\n",
       "      <td>12.0</td>\n",
       "    </tr>\n",
       "    <tr>\n",
       "      <th>Dep_hour</th>\n",
       "      <td>10683.0</td>\n",
       "      <td>12.490686</td>\n",
       "      <td>5.748650</td>\n",
       "      <td>0.0</td>\n",
       "      <td>8.0</td>\n",
       "      <td>11.0</td>\n",
       "      <td>18.0</td>\n",
       "      <td>23.0</td>\n",
       "    </tr>\n",
       "    <tr>\n",
       "      <th>Dep_min</th>\n",
       "      <td>10683.0</td>\n",
       "      <td>24.411214</td>\n",
       "      <td>18.767980</td>\n",
       "      <td>0.0</td>\n",
       "      <td>5.0</td>\n",
       "      <td>25.0</td>\n",
       "      <td>40.0</td>\n",
       "      <td>55.0</td>\n",
       "    </tr>\n",
       "    <tr>\n",
       "      <th>arrival_hour</th>\n",
       "      <td>10683.0</td>\n",
       "      <td>13.348778</td>\n",
       "      <td>6.859125</td>\n",
       "      <td>0.0</td>\n",
       "      <td>8.0</td>\n",
       "      <td>14.0</td>\n",
       "      <td>19.0</td>\n",
       "      <td>23.0</td>\n",
       "    </tr>\n",
       "    <tr>\n",
       "      <th>arrival_min</th>\n",
       "      <td>10683.0</td>\n",
       "      <td>24.690630</td>\n",
       "      <td>16.506036</td>\n",
       "      <td>0.0</td>\n",
       "      <td>10.0</td>\n",
       "      <td>25.0</td>\n",
       "      <td>35.0</td>\n",
       "      <td>55.0</td>\n",
       "    </tr>\n",
       "  </tbody>\n",
       "</table>\n",
       "</div>"
      ],
      "text/plain": [
       "                    count         mean          std     min     25%     50%  \\\n",
       "Duration          10683.0   643.093232   507.862001     5.0   170.0   520.0   \n",
       "Total_Stops       10683.0     0.824207     0.675199     0.0     0.0     1.0   \n",
       "Price             10683.0  9087.064121  4611.359167  1759.0  5277.0  8372.0   \n",
       "day_of_journey    10683.0    12.682205     8.803701     3.0     5.0     6.0   \n",
       "month_of_journey  10683.0     5.534775     2.987489     1.0     3.0     5.0   \n",
       "Dep_hour          10683.0    12.490686     5.748650     0.0     8.0    11.0   \n",
       "Dep_min           10683.0    24.411214    18.767980     0.0     5.0    25.0   \n",
       "arrival_hour      10683.0    13.348778     6.859125     0.0     8.0    14.0   \n",
       "arrival_min       10683.0    24.690630    16.506036     0.0    10.0    25.0   \n",
       "\n",
       "                      75%      max  \n",
       "Duration            930.0   2860.0  \n",
       "Total_Stops           1.0      4.0  \n",
       "Price             12373.0  79512.0  \n",
       "day_of_journey       21.0     27.0  \n",
       "month_of_journey      6.0     12.0  \n",
       "Dep_hour             18.0     23.0  \n",
       "Dep_min              40.0     55.0  \n",
       "arrival_hour         19.0     23.0  \n",
       "arrival_min          35.0     55.0  "
      ]
     },
     "execution_count": 31,
     "metadata": {},
     "output_type": "execute_result"
    }
   ],
   "source": [
    "df.describe().T"
   ]
  },
  {
   "cell_type": "code",
   "execution_count": 32,
   "id": "39d11649",
   "metadata": {},
   "outputs": [
    {
     "data": {
      "text/plain": [
       "array([ 170,  445, 1140,  325,  285,  145,  930, 1265, 1530,  470,  795,\n",
       "        155,  135,  730, 1595,  270, 1355, 1380, 1235,  310,  920,  175,\n",
       "        800,  910,  345,  355,  805, 1320,  330,  625,  315,  150,  375,\n",
       "        715,  665,  510, 1325,  165,  720,  965, 1195,  195, 1520,  180,\n",
       "        975,  905,  390, 1505,  745, 1640,  615,  630,   90,   85, 1590,\n",
       "        440,  810,  300, 1145,  890,  160, 1330,  575,  600, 1280, 1125,\n",
       "        740, 1080,  555, 1050,  995,  735,  450, 1440,  535,  430,  870,\n",
       "       1820,  900,  765,  610,  925,  845, 1215, 1390, 1090,  960,  140,\n",
       "        480, 1015,  190,  840, 1430, 1300, 1275,  650,  495,  515,  710,\n",
       "       1655,  505, 1255,  290,  490, 1465, 1415, 1545, 1570, 1730, 1515,\n",
       "        560,  550,  185,  690,  570, 1055,  305, 1550, 1200,  780, 1105,\n",
       "       1450,  295, 1535,  380, 1120, 1165, 1760,  545,  645,  700, 1375,\n",
       "       2245, 1540,  835,  520, 1410,  755, 1455,   80,  660,  675,  875,\n",
       "        775,  540,  460,  705, 1495, 1025, 1795, 1335,  880,  435, 1210,\n",
       "       1245, 1620, 1470, 1225,  335,  885,  340,  245,  955,  465, 1700,\n",
       "        260,  220,  530, 1425, 1485, 1295,  485,  385,  950, 1585, 1490,\n",
       "       1560, 1385,  475, 1580, 1395,  320,  240,  585,  500, 1045,  425,\n",
       "       2045,  365,  350,  420,  265,  825, 1155, 1350,  985,  830, 1625,\n",
       "       1690,  280,  940,  275, 1110, 2295,  395,  750,  680,  455, 1775,\n",
       "       1615, 1420,  770,  590, 1315,  655, 1270, 1240, 1800,  790,  525,\n",
       "        370, 1065, 1305,  235, 1040, 1830, 1285,  760, 1475, 1150, 1360,\n",
       "        895, 1260,  405, 1720,  580, 1000,  980, 1005,   75,  415,  685,\n",
       "        860,  725, 1445, 1695, 1070, 1220, 1685,  620,  855, 2115, 2135,\n",
       "       1600, 1680,  865,  785, 2240, 2170, 1555, 2105, 1185, 1675, 2820,\n",
       "        635,   95,  970, 2300,  360, 1010,  850, 1400, 1060,  695, 1100,\n",
       "        400, 1855, 1480, 1790, 1705, 1035, 1365, 1525, 1310, 1995, 1815,\n",
       "        215, 1660, 1825, 1130, 1665,  915,  640, 1575, 2185, 1610,  945,\n",
       "       1180, 1345, 1175, 1500, 1605, 2280,  255, 1510, 1095,  410, 1435,\n",
       "       1075, 1405, 1030, 1460, 1710, 1630, 1160,  935,  565, 1290, 2065,\n",
       "       1115, 1780, 1565, 1745, 1645,  990,  670, 1735, 1750, 2040, 1840,\n",
       "       1845, 1975,  605, 2120, 1925, 1900, 1190, 2025, 1810,  820, 1170,\n",
       "       1890, 2070, 1670, 2315, 2525,  250, 2345,  230,    5, 1950, 1915,\n",
       "       2000, 1650, 1135,  595, 2480, 1205, 1910, 2565,  205, 2230, 1770,\n",
       "       1940, 1250, 2420,  815, 2860], dtype=int64)"
      ]
     },
     "execution_count": 32,
     "metadata": {},
     "output_type": "execute_result"
    }
   ],
   "source": [
    "df['Duration'].unique()"
   ]
  },
  {
   "cell_type": "code",
   "execution_count": 33,
   "id": "36a47cb4",
   "metadata": {},
   "outputs": [
    {
     "data": {
      "text/plain": [
       "0     255\n",
       "1     560\n",
       "2     710\n",
       "3    1795\n",
       "4    2245\n",
       "Name: Duration, dtype: int64"
      ]
     },
     "execution_count": 33,
     "metadata": {},
     "output_type": "execute_result"
    }
   ],
   "source": [
    "x=df[(df['Source']=='Mumbai')&(df['Destination']=='Hyderabad')&(df[\"Total_Stops\"]==2)]\n",
    "x['Duration'].mode()"
   ]
  },
  {
   "cell_type": "code",
   "execution_count": 34,
   "id": "05565139",
   "metadata": {},
   "outputs": [
    {
     "data": {
      "text/plain": [
       "1101.3333333333333"
      ]
     },
     "execution_count": 34,
     "metadata": {},
     "output_type": "execute_result"
    }
   ],
   "source": [
    "x.Duration.mean()"
   ]
  },
  {
   "cell_type": "code",
   "execution_count": 35,
   "id": "2ac9ccd7",
   "metadata": {},
   "outputs": [
    {
     "data": {
      "text/plain": [
       "1101.33"
      ]
     },
     "execution_count": 35,
     "metadata": {},
     "output_type": "execute_result"
    }
   ],
   "source": [
    "round(x['Duration'].mean(),2)"
   ]
  },
  {
   "cell_type": "code",
   "execution_count": 36,
   "id": "19c14c6d",
   "metadata": {},
   "outputs": [
    {
     "name": "stderr",
     "output_type": "stream",
     "text": [
      "C:\\Users\\Ayush\\AppData\\Local\\Temp\\ipykernel_25460\\760447470.py:1: SettingWithCopyWarning: \n",
      "A value is trying to be set on a copy of a slice from a DataFrame\n",
      "\n",
      "See the caveats in the documentation: https://pandas.pydata.org/pandas-docs/stable/user_guide/indexing.html#returning-a-view-versus-a-copy\n",
      "  df['Duration'].iloc[6474]=round(x['Duration'].mean(),2)\n"
     ]
    }
   ],
   "source": [
    "df['Duration'].iloc[6474]=round(x['Duration'].mean(),2)"
   ]
  },
  {
   "cell_type": "code",
   "execution_count": 37,
   "id": "6775f2de",
   "metadata": {},
   "outputs": [
    {
     "data": {
      "text/plain": [
       "Airline                         Air India\n",
       "Source                             Mumbai\n",
       "Destination                     Hyderabad\n",
       "Route               BOM → GOI → PNQ → HYD\n",
       "Duration                          1101.33\n",
       "Total_Stops                             2\n",
       "Additional_Info                   No info\n",
       "Price                               17327\n",
       "day_of_journey                          3\n",
       "month_of_journey                        6\n",
       "Dep_hour                               16\n",
       "Dep_min                                50\n",
       "arrival_hour                           16\n",
       "arrival_min                            55\n",
       "Name: 6474, dtype: object"
      ]
     },
     "execution_count": 37,
     "metadata": {},
     "output_type": "execute_result"
    }
   ],
   "source": [
    "df.iloc[6474]"
   ]
  },
  {
   "cell_type": "code",
   "execution_count": 38,
   "id": "936372fb",
   "metadata": {},
   "outputs": [
    {
     "data": {
      "text/html": [
       "<div>\n",
       "<style scoped>\n",
       "    .dataframe tbody tr th:only-of-type {\n",
       "        vertical-align: middle;\n",
       "    }\n",
       "\n",
       "    .dataframe tbody tr th {\n",
       "        vertical-align: top;\n",
       "    }\n",
       "\n",
       "    .dataframe thead th {\n",
       "        text-align: right;\n",
       "    }\n",
       "</style>\n",
       "<table border=\"1\" class=\"dataframe\">\n",
       "  <thead>\n",
       "    <tr style=\"text-align: right;\">\n",
       "      <th></th>\n",
       "      <th>count</th>\n",
       "      <th>mean</th>\n",
       "      <th>std</th>\n",
       "      <th>min</th>\n",
       "      <th>25%</th>\n",
       "      <th>50%</th>\n",
       "      <th>75%</th>\n",
       "      <th>max</th>\n",
       "    </tr>\n",
       "  </thead>\n",
       "  <tbody>\n",
       "    <tr>\n",
       "      <th>Duration</th>\n",
       "      <td>10683.0</td>\n",
       "      <td>643.195856</td>\n",
       "      <td>507.843817</td>\n",
       "      <td>75.0</td>\n",
       "      <td>170.0</td>\n",
       "      <td>520.0</td>\n",
       "      <td>930.0</td>\n",
       "      <td>2860.0</td>\n",
       "    </tr>\n",
       "    <tr>\n",
       "      <th>Total_Stops</th>\n",
       "      <td>10683.0</td>\n",
       "      <td>0.824207</td>\n",
       "      <td>0.675199</td>\n",
       "      <td>0.0</td>\n",
       "      <td>0.0</td>\n",
       "      <td>1.0</td>\n",
       "      <td>1.0</td>\n",
       "      <td>4.0</td>\n",
       "    </tr>\n",
       "    <tr>\n",
       "      <th>Price</th>\n",
       "      <td>10683.0</td>\n",
       "      <td>9087.064121</td>\n",
       "      <td>4611.359167</td>\n",
       "      <td>1759.0</td>\n",
       "      <td>5277.0</td>\n",
       "      <td>8372.0</td>\n",
       "      <td>12373.0</td>\n",
       "      <td>79512.0</td>\n",
       "    </tr>\n",
       "    <tr>\n",
       "      <th>day_of_journey</th>\n",
       "      <td>10683.0</td>\n",
       "      <td>12.682205</td>\n",
       "      <td>8.803701</td>\n",
       "      <td>3.0</td>\n",
       "      <td>5.0</td>\n",
       "      <td>6.0</td>\n",
       "      <td>21.0</td>\n",
       "      <td>27.0</td>\n",
       "    </tr>\n",
       "    <tr>\n",
       "      <th>month_of_journey</th>\n",
       "      <td>10683.0</td>\n",
       "      <td>5.534775</td>\n",
       "      <td>2.987489</td>\n",
       "      <td>1.0</td>\n",
       "      <td>3.0</td>\n",
       "      <td>5.0</td>\n",
       "      <td>6.0</td>\n",
       "      <td>12.0</td>\n",
       "    </tr>\n",
       "    <tr>\n",
       "      <th>Dep_hour</th>\n",
       "      <td>10683.0</td>\n",
       "      <td>12.490686</td>\n",
       "      <td>5.748650</td>\n",
       "      <td>0.0</td>\n",
       "      <td>8.0</td>\n",
       "      <td>11.0</td>\n",
       "      <td>18.0</td>\n",
       "      <td>23.0</td>\n",
       "    </tr>\n",
       "    <tr>\n",
       "      <th>Dep_min</th>\n",
       "      <td>10683.0</td>\n",
       "      <td>24.411214</td>\n",
       "      <td>18.767980</td>\n",
       "      <td>0.0</td>\n",
       "      <td>5.0</td>\n",
       "      <td>25.0</td>\n",
       "      <td>40.0</td>\n",
       "      <td>55.0</td>\n",
       "    </tr>\n",
       "    <tr>\n",
       "      <th>arrival_hour</th>\n",
       "      <td>10683.0</td>\n",
       "      <td>13.348778</td>\n",
       "      <td>6.859125</td>\n",
       "      <td>0.0</td>\n",
       "      <td>8.0</td>\n",
       "      <td>14.0</td>\n",
       "      <td>19.0</td>\n",
       "      <td>23.0</td>\n",
       "    </tr>\n",
       "    <tr>\n",
       "      <th>arrival_min</th>\n",
       "      <td>10683.0</td>\n",
       "      <td>24.690630</td>\n",
       "      <td>16.506036</td>\n",
       "      <td>0.0</td>\n",
       "      <td>10.0</td>\n",
       "      <td>25.0</td>\n",
       "      <td>35.0</td>\n",
       "      <td>55.0</td>\n",
       "    </tr>\n",
       "  </tbody>\n",
       "</table>\n",
       "</div>"
      ],
      "text/plain": [
       "                    count         mean          std     min     25%     50%  \\\n",
       "Duration          10683.0   643.195856   507.843817    75.0   170.0   520.0   \n",
       "Total_Stops       10683.0     0.824207     0.675199     0.0     0.0     1.0   \n",
       "Price             10683.0  9087.064121  4611.359167  1759.0  5277.0  8372.0   \n",
       "day_of_journey    10683.0    12.682205     8.803701     3.0     5.0     6.0   \n",
       "month_of_journey  10683.0     5.534775     2.987489     1.0     3.0     5.0   \n",
       "Dep_hour          10683.0    12.490686     5.748650     0.0     8.0    11.0   \n",
       "Dep_min           10683.0    24.411214    18.767980     0.0     5.0    25.0   \n",
       "arrival_hour      10683.0    13.348778     6.859125     0.0     8.0    14.0   \n",
       "arrival_min       10683.0    24.690630    16.506036     0.0    10.0    25.0   \n",
       "\n",
       "                      75%      max  \n",
       "Duration            930.0   2860.0  \n",
       "Total_Stops           1.0      4.0  \n",
       "Price             12373.0  79512.0  \n",
       "day_of_journey       21.0     27.0  \n",
       "month_of_journey      6.0     12.0  \n",
       "Dep_hour             18.0     23.0  \n",
       "Dep_min              40.0     55.0  \n",
       "arrival_hour         19.0     23.0  \n",
       "arrival_min          35.0     55.0  "
      ]
     },
     "execution_count": 38,
     "metadata": {},
     "output_type": "execute_result"
    }
   ],
   "source": [
    "df.describe().T"
   ]
  },
  {
   "cell_type": "code",
   "execution_count": 39,
   "id": "bd310700",
   "metadata": {},
   "outputs": [
    {
     "name": "stderr",
     "output_type": "stream",
     "text": [
      "C:\\ProgramData\\Anaconda3\\lib\\site-packages\\seaborn\\_decorators.py:36: FutureWarning: Pass the following variable as a keyword arg: x. From version 0.12, the only valid positional argument will be `data`, and passing other arguments without an explicit keyword will result in an error or misinterpretation.\n",
      "  warnings.warn(\n"
     ]
    },
    {
     "data": {
      "text/plain": [
       "<AxesSubplot:xlabel='Price'>"
      ]
     },
     "execution_count": 39,
     "metadata": {},
     "output_type": "execute_result"
    },
    {
     "data": {
      "image/png": "[encoded data removed]",
      "text/plain": [
       "<Figure size 432x288 with 1 Axes>"
      ]
     },
     "metadata": {
      "needs_background": "light"
     },
     "output_type": "display_data"
    }
   ],
   "source": [
    "# most of the flight have flilgts 5k to 8k\n",
    "sns.boxplot(df['Price'])"
   ]
  },
  {
   "cell_type": "code",
   "execution_count": 40,
   "id": "97e9a87f",
   "metadata": {},
   "outputs": [
    {
     "name": "stderr",
     "output_type": "stream",
     "text": [
      "C:\\ProgramData\\Anaconda3\\lib\\site-packages\\seaborn\\distributions.py:2619: FutureWarning: `distplot` is a deprecated function and will be removed in a future version. Please adapt your code to use either `displot` (a figure-level function with similar flexibility) or `histplot` (an axes-level function for histograms).\n",
      "  warnings.warn(msg, FutureWarning)\n"
     ]
    },
    {
     "data": {
      "image/png": "[encoded data removed]",
      "text/plain": [
       "<Figure size 432x288 with 1 Axes>"
      ]
     },
     "metadata": {
      "needs_background": "light"
     },
     "output_type": "display_data"
    }
   ],
   "source": [
    "sns.distplot(df['Price']);"
   ]
  },
  {
   "cell_type": "code",
   "execution_count": 41,
   "id": "39d1ea29",
   "metadata": {},
   "outputs": [
    {
     "data": {
      "text/plain": [
       "Jet Airways                          3849\n",
       "IndiGo                               2053\n",
       "Air India                            1752\n",
       "Multiple carriers                    1196\n",
       "SpiceJet                              818\n",
       "Vistara                               479\n",
       "Air Asia                              319\n",
       "GoAir                                 194\n",
       "Multiple carriers Premium economy      13\n",
       "Jet Airways Business                    6\n",
       "Vistara Premium economy                 3\n",
       "Trujet                                  1\n",
       "Name: Airline, dtype: int64"
      ]
     },
     "execution_count": 41,
     "metadata": {},
     "output_type": "execute_result"
    }
   ],
   "source": [
    "df['Airline'].value_counts()"
   ]
  },
  {
   "cell_type": "code",
   "execution_count": 42,
   "id": "1f33a030",
   "metadata": {},
   "outputs": [
    {
     "data": {
      "text/plain": [
       "<AxesSubplot:xlabel='Airline', ylabel='count'>"
      ]
     },
     "execution_count": 42,
     "metadata": {},
     "output_type": "execute_result"
    },
    {
     "data": {
      "image/png": "[encoded data removed]",
      "text/plain": [
       "<Figure size 432x288 with 1 Axes>"
      ]
     },
     "metadata": {
      "needs_background": "light"
     },
     "output_type": "display_data"
    }
   ],
   "source": [
    "plt.xticks(rotation=90)\n",
    "sns.countplot(x='Airline',data=df)"
   ]
  },
  {
   "cell_type": "code",
   "execution_count": 43,
   "id": "e17b37b7",
   "metadata": {},
   "outputs": [
    {
     "data": {
      "image/png": "[encoded data removed]",
      "text/plain": [
       "<Figure size 432x288 with 1 Axes>"
      ]
     },
     "metadata": {
      "needs_background": "light"
     },
     "output_type": "display_data"
    }
   ],
   "source": [
    "sns.boxplot(x='Airline',y='Price',data=df)\n",
    "plt.xticks(rotation=90);"
   ]
  },
  {
   "cell_type": "code",
   "execution_count": 44,
   "id": "1cbe51a6",
   "metadata": {},
   "outputs": [
    {
     "data": {
      "text/html": [
       "<div>\n",
       "<style scoped>\n",
       "    .dataframe tbody tr th:only-of-type {\n",
       "        vertical-align: middle;\n",
       "    }\n",
       "\n",
       "    .dataframe tbody tr th {\n",
       "        vertical-align: top;\n",
       "    }\n",
       "\n",
       "    .dataframe thead th {\n",
       "        text-align: right;\n",
       "    }\n",
       "</style>\n",
       "<table border=\"1\" class=\"dataframe\">\n",
       "  <thead>\n",
       "    <tr style=\"text-align: right;\">\n",
       "      <th></th>\n",
       "      <th>Airline</th>\n",
       "      <th>Source</th>\n",
       "      <th>Destination</th>\n",
       "      <th>Route</th>\n",
       "      <th>Duration</th>\n",
       "      <th>Total_Stops</th>\n",
       "      <th>Additional_Info</th>\n",
       "      <th>Price</th>\n",
       "      <th>day_of_journey</th>\n",
       "      <th>month_of_journey</th>\n",
       "      <th>Dep_hour</th>\n",
       "      <th>Dep_min</th>\n",
       "      <th>arrival_hour</th>\n",
       "      <th>arrival_min</th>\n",
       "    </tr>\n",
       "  </thead>\n",
       "  <tbody>\n",
       "    <tr>\n",
       "      <th>657</th>\n",
       "      <td>Jet Airways Business</td>\n",
       "      <td>Banglore</td>\n",
       "      <td>Delhi</td>\n",
       "      <td>BLR → BOM → DEL</td>\n",
       "      <td>300.0</td>\n",
       "      <td>1</td>\n",
       "      <td>No info</td>\n",
       "      <td>52229</td>\n",
       "      <td>3</td>\n",
       "      <td>1</td>\n",
       "      <td>5</td>\n",
       "      <td>45</td>\n",
       "      <td>10</td>\n",
       "      <td>45</td>\n",
       "    </tr>\n",
       "    <tr>\n",
       "      <th>2924</th>\n",
       "      <td>Jet Airways Business</td>\n",
       "      <td>Banglore</td>\n",
       "      <td>Delhi</td>\n",
       "      <td>BLR → BOM → DEL</td>\n",
       "      <td>340.0</td>\n",
       "      <td>1</td>\n",
       "      <td>Business class</td>\n",
       "      <td>79512</td>\n",
       "      <td>3</td>\n",
       "      <td>1</td>\n",
       "      <td>5</td>\n",
       "      <td>45</td>\n",
       "      <td>11</td>\n",
       "      <td>25</td>\n",
       "    </tr>\n",
       "    <tr>\n",
       "      <th>5372</th>\n",
       "      <td>Jet Airways Business</td>\n",
       "      <td>Banglore</td>\n",
       "      <td>Delhi</td>\n",
       "      <td>BLR → BOM → DEL</td>\n",
       "      <td>400.0</td>\n",
       "      <td>1</td>\n",
       "      <td>Business class</td>\n",
       "      <td>62427</td>\n",
       "      <td>3</td>\n",
       "      <td>1</td>\n",
       "      <td>5</td>\n",
       "      <td>45</td>\n",
       "      <td>12</td>\n",
       "      <td>25</td>\n",
       "    </tr>\n",
       "    <tr>\n",
       "      <th>7351</th>\n",
       "      <td>Jet Airways Business</td>\n",
       "      <td>Delhi</td>\n",
       "      <td>Cochin</td>\n",
       "      <td>DEL → ATQ → BOM → COK</td>\n",
       "      <td>500.0</td>\n",
       "      <td>2</td>\n",
       "      <td>No info</td>\n",
       "      <td>46490</td>\n",
       "      <td>3</td>\n",
       "      <td>3</td>\n",
       "      <td>20</td>\n",
       "      <td>5</td>\n",
       "      <td>4</td>\n",
       "      <td>25</td>\n",
       "    </tr>\n",
       "    <tr>\n",
       "      <th>9715</th>\n",
       "      <td>Jet Airways Business</td>\n",
       "      <td>Delhi</td>\n",
       "      <td>Cochin</td>\n",
       "      <td>DEL → ATQ → BOM → COK</td>\n",
       "      <td>500.0</td>\n",
       "      <td>2</td>\n",
       "      <td>No info</td>\n",
       "      <td>52285</td>\n",
       "      <td>3</td>\n",
       "      <td>6</td>\n",
       "      <td>20</td>\n",
       "      <td>5</td>\n",
       "      <td>4</td>\n",
       "      <td>25</td>\n",
       "    </tr>\n",
       "    <tr>\n",
       "      <th>10364</th>\n",
       "      <td>Jet Airways Business</td>\n",
       "      <td>Banglore</td>\n",
       "      <td>Delhi</td>\n",
       "      <td>BLR → MAA → DEL</td>\n",
       "      <td>280.0</td>\n",
       "      <td>1</td>\n",
       "      <td>Business class</td>\n",
       "      <td>57209</td>\n",
       "      <td>3</td>\n",
       "      <td>1</td>\n",
       "      <td>9</td>\n",
       "      <td>45</td>\n",
       "      <td>14</td>\n",
       "      <td>25</td>\n",
       "    </tr>\n",
       "  </tbody>\n",
       "</table>\n",
       "</div>"
      ],
      "text/plain": [
       "                    Airline    Source Destination                  Route  \\\n",
       "657    Jet Airways Business  Banglore       Delhi        BLR → BOM → DEL   \n",
       "2924   Jet Airways Business  Banglore       Delhi        BLR → BOM → DEL   \n",
       "5372   Jet Airways Business  Banglore       Delhi        BLR → BOM → DEL   \n",
       "7351   Jet Airways Business     Delhi      Cochin  DEL → ATQ → BOM → COK   \n",
       "9715   Jet Airways Business     Delhi      Cochin  DEL → ATQ → BOM → COK   \n",
       "10364  Jet Airways Business  Banglore       Delhi        BLR → MAA → DEL   \n",
       "\n",
       "       Duration  Total_Stops Additional_Info  Price  day_of_journey  \\\n",
       "657       300.0            1         No info  52229               3   \n",
       "2924      340.0            1  Business class  79512               3   \n",
       "5372      400.0            1  Business class  62427               3   \n",
       "7351      500.0            2         No info  46490               3   \n",
       "9715      500.0            2         No info  52285               3   \n",
       "10364     280.0            1  Business class  57209               3   \n",
       "\n",
       "       month_of_journey  Dep_hour  Dep_min  arrival_hour  arrival_min  \n",
       "657                   1         5       45            10           45  \n",
       "2924                  1         5       45            11           25  \n",
       "5372                  1         5       45            12           25  \n",
       "7351                  3        20        5             4           25  \n",
       "9715                  6        20        5             4           25  \n",
       "10364                 1         9       45            14           25  "
      ]
     },
     "execution_count": 44,
     "metadata": {},
     "output_type": "execute_result"
    }
   ],
   "source": [
    "df[df['Airline']=='Jet Airways Business']"
   ]
  },
  {
   "cell_type": "code",
   "execution_count": 45,
   "id": "32896c3d",
   "metadata": {},
   "outputs": [
    {
     "data": {
      "text/html": [
       "<div>\n",
       "<style scoped>\n",
       "    .dataframe tbody tr th:only-of-type {\n",
       "        vertical-align: middle;\n",
       "    }\n",
       "\n",
       "    .dataframe tbody tr th {\n",
       "        vertical-align: top;\n",
       "    }\n",
       "\n",
       "    .dataframe thead th {\n",
       "        text-align: right;\n",
       "    }\n",
       "</style>\n",
       "<table border=\"1\" class=\"dataframe\">\n",
       "  <thead>\n",
       "    <tr style=\"text-align: right;\">\n",
       "      <th></th>\n",
       "      <th>Airline</th>\n",
       "      <th>Source</th>\n",
       "      <th>Destination</th>\n",
       "      <th>Route</th>\n",
       "      <th>Duration</th>\n",
       "      <th>Total_Stops</th>\n",
       "      <th>Additional_Info</th>\n",
       "      <th>Price</th>\n",
       "      <th>day_of_journey</th>\n",
       "      <th>month_of_journey</th>\n",
       "      <th>Dep_hour</th>\n",
       "      <th>Dep_min</th>\n",
       "      <th>arrival_hour</th>\n",
       "      <th>arrival_min</th>\n",
       "    </tr>\n",
       "  </thead>\n",
       "  <tbody>\n",
       "    <tr>\n",
       "      <th>2878</th>\n",
       "      <td>Trujet</td>\n",
       "      <td>Mumbai</td>\n",
       "      <td>Hyderabad</td>\n",
       "      <td>BOM → NDC → HYD</td>\n",
       "      <td>195.0</td>\n",
       "      <td>1</td>\n",
       "      <td>No info</td>\n",
       "      <td>4140</td>\n",
       "      <td>3</td>\n",
       "      <td>6</td>\n",
       "      <td>13</td>\n",
       "      <td>5</td>\n",
       "      <td>16</td>\n",
       "      <td>20</td>\n",
       "    </tr>\n",
       "  </tbody>\n",
       "</table>\n",
       "</div>"
      ],
      "text/plain": [
       "     Airline  Source Destination            Route  Duration  Total_Stops  \\\n",
       "2878  Trujet  Mumbai   Hyderabad  BOM → NDC → HYD     195.0            1   \n",
       "\n",
       "     Additional_Info  Price  day_of_journey  month_of_journey  Dep_hour  \\\n",
       "2878         No info   4140               3                 6        13   \n",
       "\n",
       "      Dep_min  arrival_hour  arrival_min  \n",
       "2878        5            16           20  "
      ]
     },
     "execution_count": 45,
     "metadata": {},
     "output_type": "execute_result"
    }
   ],
   "source": [
    "df[df['Airline']=='Trujet']"
   ]
  },
  {
   "cell_type": "code",
   "execution_count": 46,
   "id": "e27f27ea",
   "metadata": {},
   "outputs": [
    {
     "data": {
      "text/plain": [
       "1    5626\n",
       "0    3491\n",
       "2    1520\n",
       "3      45\n",
       "4       1\n",
       "Name: Total_Stops, dtype: int64"
      ]
     },
     "execution_count": 46,
     "metadata": {},
     "output_type": "execute_result"
    }
   ],
   "source": [
    "df['Total_Stops'].value_counts()"
   ]
  },
  {
   "cell_type": "code",
   "execution_count": 47,
   "id": "1e9a1339",
   "metadata": {},
   "outputs": [
    {
     "data": {
      "text/html": [
       "<div>\n",
       "<style scoped>\n",
       "    .dataframe tbody tr th:only-of-type {\n",
       "        vertical-align: middle;\n",
       "    }\n",
       "\n",
       "    .dataframe tbody tr th {\n",
       "        vertical-align: top;\n",
       "    }\n",
       "\n",
       "    .dataframe thead th {\n",
       "        text-align: right;\n",
       "    }\n",
       "</style>\n",
       "<table border=\"1\" class=\"dataframe\">\n",
       "  <thead>\n",
       "    <tr style=\"text-align: right;\">\n",
       "      <th></th>\n",
       "      <th>Airline</th>\n",
       "      <th>Source</th>\n",
       "      <th>Destination</th>\n",
       "      <th>Route</th>\n",
       "      <th>Duration</th>\n",
       "      <th>Total_Stops</th>\n",
       "      <th>Additional_Info</th>\n",
       "      <th>Price</th>\n",
       "      <th>day_of_journey</th>\n",
       "      <th>month_of_journey</th>\n",
       "      <th>Dep_hour</th>\n",
       "      <th>Dep_min</th>\n",
       "      <th>arrival_hour</th>\n",
       "      <th>arrival_min</th>\n",
       "    </tr>\n",
       "  </thead>\n",
       "  <tbody>\n",
       "    <tr>\n",
       "      <th>9182</th>\n",
       "      <td>Air India</td>\n",
       "      <td>Banglore</td>\n",
       "      <td>Delhi</td>\n",
       "      <td>BLR → CCU → BBI → HYD → VGA → DEL</td>\n",
       "      <td>1770.0</td>\n",
       "      <td>4</td>\n",
       "      <td>Change airports</td>\n",
       "      <td>17686</td>\n",
       "      <td>3</td>\n",
       "      <td>1</td>\n",
       "      <td>5</td>\n",
       "      <td>50</td>\n",
       "      <td>11</td>\n",
       "      <td>20</td>\n",
       "    </tr>\n",
       "  </tbody>\n",
       "</table>\n",
       "</div>"
      ],
      "text/plain": [
       "        Airline    Source Destination                              Route  \\\n",
       "9182  Air India  Banglore       Delhi  BLR → CCU → BBI → HYD → VGA → DEL   \n",
       "\n",
       "      Duration  Total_Stops  Additional_Info  Price  day_of_journey  \\\n",
       "9182    1770.0            4  Change airports  17686               3   \n",
       "\n",
       "      month_of_journey  Dep_hour  Dep_min  arrival_hour  arrival_min  \n",
       "9182                 1         5       50            11           20  "
      ]
     },
     "execution_count": 47,
     "metadata": {},
     "output_type": "execute_result"
    }
   ],
   "source": [
    "df[df['Total_Stops']==4]"
   ]
  },
  {
   "cell_type": "code",
   "execution_count": 48,
   "id": "9685ca14",
   "metadata": {},
   "outputs": [],
   "source": [
    "# Find the flights with respect no of stopages"
   ]
  },
  {
   "cell_type": "code",
   "execution_count": 49,
   "id": "46221e63",
   "metadata": {},
   "outputs": [
    {
     "data": {
      "text/plain": [
       "Total_Stops  Airline                          \n",
       "0            IndiGo                               1241\n",
       "             SpiceJet                              670\n",
       "             Jet Airways                           623\n",
       "             Air India                             417\n",
       "             Vistara                               264\n",
       "             Air Asia                              181\n",
       "             GoAir                                  92\n",
       "             Vistara Premium economy                 3\n",
       "1            Jet Airways                          2535\n",
       "             Multiple carriers                    1145\n",
       "             IndiGo                                793\n",
       "             Air India                             541\n",
       "             Vistara                               215\n",
       "             SpiceJet                              148\n",
       "             Air Asia                              129\n",
       "             GoAir                                 102\n",
       "             Multiple carriers Premium economy      13\n",
       "             Jet Airways Business                    4\n",
       "             Trujet                                  1\n",
       "2            Air India                             756\n",
       "             Jet Airways                           691\n",
       "             Multiple carriers                      43\n",
       "             IndiGo                                 19\n",
       "             Air Asia                                9\n",
       "             Jet Airways Business                    2\n",
       "3            Air India                              37\n",
       "             Multiple carriers                       8\n",
       "4            Air India                               1\n",
       "Name: Airline, dtype: int64"
      ]
     },
     "execution_count": 49,
     "metadata": {},
     "output_type": "execute_result"
    }
   ],
   "source": [
    "# \n",
    "df.groupby('Total_Stops')['Airline'].value_counts()"
   ]
  },
  {
   "cell_type": "code",
   "execution_count": 50,
   "id": "79e2dba6",
   "metadata": {},
   "outputs": [
    {
     "data": {
      "image/png": "[encoded data removed]",
      "text/plain": [
       "<Figure size 432x288 with 1 Axes>"
      ]
     },
     "metadata": {
      "needs_background": "light"
     },
     "output_type": "display_data"
    }
   ],
   "source": [
    "sns.barplot(x='Airline',y='Total_Stops',data=df)\n",
    "plt.xticks(rotation=90);"
   ]
  },
  {
   "cell_type": "code",
   "execution_count": 51,
   "id": "f7392956",
   "metadata": {},
   "outputs": [
    {
     "data": {
      "text/plain": [
       "<AxesSubplot:xlabel='Airline', ylabel='Total_Stops'>"
      ]
     },
     "execution_count": 51,
     "metadata": {},
     "output_type": "execute_result"
    },
    {
     "data": {
      "image/png": "[encoded data removed]",
      "text/plain": [
       "<Figure size 432x288 with 3 Axes>"
      ]
     },
     "metadata": {
      "needs_background": "light"
     },
     "output_type": "display_data"
    }
   ],
   "source": [
    "plt.subplot(1,3,1)\n",
    "plt.xticks(rotation=90);\n",
    "\n",
    "sns.barplot(x='Airline',y='Total_Stops',data=df)\n",
    "plt.subplot(1,3,2)\n",
    "plt.xticks(rotation=90);\n",
    "\n",
    "sns.barplot(x='Airline',y='Total_Stops',data=df,estimator=max)\n",
    "plt.subplot(1,3,3)\n",
    "plt.xticks(rotation=90);\n",
    "\n",
    "sns.barplot(x='Airline',y='Total_Stops',data=df,estimator=min)\n",
    "            "
   ]
  },
  {
   "cell_type": "code",
   "execution_count": 52,
   "id": "6e28a754",
   "metadata": {},
   "outputs": [
    {
     "data": {
      "text/plain": [
       "<AxesSubplot:xlabel='Total_Stops', ylabel='Price'>"
      ]
     },
     "execution_count": 52,
     "metadata": {},
     "output_type": "execute_result"
    },
    {
     "data": {
      "image/png": "[encoded data removed]",
      "text/plain": [
       "<Figure size 432x288 with 1 Axes>"
      ]
     },
     "metadata": {
      "needs_background": "light"
     },
     "output_type": "display_data"
    }
   ],
   "source": [
    "sns.scatterplot(x='Total_Stops',y='Price',data=df)"
   ]
  },
  {
   "cell_type": "code",
   "execution_count": 53,
   "id": "86deab41",
   "metadata": {},
   "outputs": [
    {
     "data": {
      "text/plain": [
       "<AxesSubplot:xlabel='Total_Stops', ylabel='Price'>"
      ]
     },
     "execution_count": 53,
     "metadata": {},
     "output_type": "execute_result"
    },
    {
     "data": {
      "image/png": "[encoded data removed]",
      "text/plain": [
       "<Figure size 432x288 with 1 Axes>"
      ]
     },
     "metadata": {
      "needs_background": "light"
     },
     "output_type": "display_data"
    }
   ],
   "source": [
    "sns.boxplot(x='Total_Stops',y='Price',data=df)"
   ]
  },
  {
   "cell_type": "code",
   "execution_count": 54,
   "id": "a1c3661c",
   "metadata": {},
   "outputs": [
    {
     "data": {
      "text/plain": [
       "Source    Destination  Airline                          \n",
       "Banglore  Delhi        Jet Airways                           788\n",
       "                       IndiGo                                523\n",
       "                       Air India                             332\n",
       "                       Vistara                               185\n",
       "                       SpiceJet                              181\n",
       "                       GoAir                                  93\n",
       "                       Air Asia                               89\n",
       "                       Jet Airways Business                    4\n",
       "                       Vistara Premium economy                 2\n",
       "Chennai   Kolkata      IndiGo                                184\n",
       "                       SpiceJet                              128\n",
       "                       Vistara                                43\n",
       "                       Air India                              25\n",
       "                       Vistara Premium economy                 1\n",
       "Delhi     Cochin       Jet Airways                          1586\n",
       "                       Multiple carriers                    1196\n",
       "                       Air India                             747\n",
       "                       IndiGo                                705\n",
       "                       SpiceJet                               87\n",
       "                       Air Asia                               80\n",
       "                       GoAir                                  76\n",
       "                       Vistara                                45\n",
       "                       Multiple carriers Premium economy      13\n",
       "                       Jet Airways Business                    2\n",
       "Kolkata   Banglore     Jet Airways                          1256\n",
       "                       Air India                             512\n",
       "                       IndiGo                                445\n",
       "                       SpiceJet                              300\n",
       "                       Vistara                               183\n",
       "                       Air Asia                              150\n",
       "                       GoAir                                  25\n",
       "Mumbai    Hyderabad    Jet Airways                           219\n",
       "                       IndiGo                                196\n",
       "                       Air India                             136\n",
       "                       SpiceJet                              122\n",
       "                       Vistara                                23\n",
       "                       Trujet                                  1\n",
       "Name: Airline, dtype: int64"
      ]
     },
     "execution_count": 54,
     "metadata": {},
     "output_type": "execute_result"
    }
   ],
   "source": [
    "# Which flights is available from source  to destination\n",
    "df.groupby(['Source','Destination'])['Airline'].value_counts()"
   ]
  },
  {
   "cell_type": "code",
   "execution_count": 55,
   "id": "e0a8385d",
   "metadata": {},
   "outputs": [],
   "source": [
    "# Find max and min of avreg from source to destination"
   ]
  },
  {
   "cell_type": "code",
   "execution_count": 56,
   "id": "398fd7ef",
   "metadata": {},
   "outputs": [
    {
     "data": {
      "text/html": [
       "<div>\n",
       "<style scoped>\n",
       "    .dataframe tbody tr th:only-of-type {\n",
       "        vertical-align: middle;\n",
       "    }\n",
       "\n",
       "    .dataframe tbody tr th {\n",
       "        vertical-align: top;\n",
       "    }\n",
       "\n",
       "    .dataframe thead th {\n",
       "        text-align: right;\n",
       "    }\n",
       "</style>\n",
       "<table border=\"1\" class=\"dataframe\">\n",
       "  <thead>\n",
       "    <tr style=\"text-align: right;\">\n",
       "      <th></th>\n",
       "      <th>Source</th>\n",
       "      <th>Destination</th>\n",
       "      <th>Airline</th>\n",
       "      <th>max</th>\n",
       "      <th>min</th>\n",
       "      <th>mean</th>\n",
       "    </tr>\n",
       "  </thead>\n",
       "  <tbody>\n",
       "    <tr>\n",
       "      <th>0</th>\n",
       "      <td>Banglore</td>\n",
       "      <td>Delhi</td>\n",
       "      <td>Air Asia</td>\n",
       "      <td>10873</td>\n",
       "      <td>3383</td>\n",
       "      <td>4574.280899</td>\n",
       "    </tr>\n",
       "    <tr>\n",
       "      <th>1</th>\n",
       "      <td>Banglore</td>\n",
       "      <td>Delhi</td>\n",
       "      <td>Air India</td>\n",
       "      <td>31783</td>\n",
       "      <td>3758</td>\n",
       "      <td>9238.198795</td>\n",
       "    </tr>\n",
       "    <tr>\n",
       "      <th>2</th>\n",
       "      <td>Banglore</td>\n",
       "      <td>Delhi</td>\n",
       "      <td>GoAir</td>\n",
       "      <td>18558</td>\n",
       "      <td>3398</td>\n",
       "      <td>4948.881720</td>\n",
       "    </tr>\n",
       "    <tr>\n",
       "      <th>3</th>\n",
       "      <td>Banglore</td>\n",
       "      <td>Delhi</td>\n",
       "      <td>IndiGo</td>\n",
       "      <td>22153</td>\n",
       "      <td>3359</td>\n",
       "      <td>5274.112811</td>\n",
       "    </tr>\n",
       "    <tr>\n",
       "      <th>4</th>\n",
       "      <td>Banglore</td>\n",
       "      <td>Delhi</td>\n",
       "      <td>Jet Airways</td>\n",
       "      <td>54826</td>\n",
       "      <td>3359</td>\n",
       "      <td>11021.732234</td>\n",
       "    </tr>\n",
       "    <tr>\n",
       "      <th>5</th>\n",
       "      <td>Banglore</td>\n",
       "      <td>Delhi</td>\n",
       "      <td>Jet Airways Business</td>\n",
       "      <td>79512</td>\n",
       "      <td>52229</td>\n",
       "      <td>62844.250000</td>\n",
       "    </tr>\n",
       "    <tr>\n",
       "      <th>6</th>\n",
       "      <td>Banglore</td>\n",
       "      <td>Delhi</td>\n",
       "      <td>SpiceJet</td>\n",
       "      <td>23267</td>\n",
       "      <td>3257</td>\n",
       "      <td>4550.292818</td>\n",
       "    </tr>\n",
       "    <tr>\n",
       "      <th>7</th>\n",
       "      <td>Banglore</td>\n",
       "      <td>Delhi</td>\n",
       "      <td>Vistara</td>\n",
       "      <td>21730</td>\n",
       "      <td>4353</td>\n",
       "      <td>6182.172973</td>\n",
       "    </tr>\n",
       "    <tr>\n",
       "      <th>8</th>\n",
       "      <td>Banglore</td>\n",
       "      <td>Delhi</td>\n",
       "      <td>Vistara Premium economy</td>\n",
       "      <td>11793</td>\n",
       "      <td>5969</td>\n",
       "      <td>8881.000000</td>\n",
       "    </tr>\n",
       "  </tbody>\n",
       "</table>\n",
       "</div>"
      ],
      "text/plain": [
       "     Source Destination                  Airline    max    min          mean\n",
       "0  Banglore       Delhi                 Air Asia  10873   3383   4574.280899\n",
       "1  Banglore       Delhi                Air India  31783   3758   9238.198795\n",
       "2  Banglore       Delhi                    GoAir  18558   3398   4948.881720\n",
       "3  Banglore       Delhi                   IndiGo  22153   3359   5274.112811\n",
       "4  Banglore       Delhi              Jet Airways  54826   3359  11021.732234\n",
       "5  Banglore       Delhi     Jet Airways Business  79512  52229  62844.250000\n",
       "6  Banglore       Delhi                 SpiceJet  23267   3257   4550.292818\n",
       "7  Banglore       Delhi                  Vistara  21730   4353   6182.172973\n",
       "8  Banglore       Delhi  Vistara Premium economy  11793   5969   8881.000000"
      ]
     },
     "execution_count": 56,
     "metadata": {},
     "output_type": "execute_result"
    }
   ],
   "source": [
    "# Which flights is available from source  to destination\n",
    "\n",
    "k=df.groupby(['Source','Destination','Airline'])['Price'].agg(['max','min','mean'])\n",
    "k.reset_index(inplace=True)\n",
    "k.head(9)"
   ]
  },
  {
   "cell_type": "code",
   "execution_count": 57,
   "id": "02b6d6dc",
   "metadata": {},
   "outputs": [
    {
     "data": {
      "image/png": "[encoded data removed]",
      "text/plain": [
       "<Figure size 432x288 with 1 Axes>"
      ]
     },
     "metadata": {
      "needs_background": "light"
     },
     "output_type": "display_data"
    }
   ],
   "source": [
    "sns.barplot(x=k['Airline'],y=k['mean'],data=k)\n",
    "plt.xticks(rotation=90);\n",
    "\n",
    "\n"
   ]
  },
  {
   "cell_type": "code",
   "execution_count": 58,
   "id": "5e7f6cec",
   "metadata": {},
   "outputs": [
    {
     "data": {
      "image/png": "[encoded data removed]",
      "text/plain": [
       "<Figure size 432x288 with 1 Axes>"
      ]
     },
     "metadata": {
      "needs_background": "light"
     },
     "output_type": "display_data"
    }
   ],
   "source": [
    "sns.barplot(x=k['Airline'],y=k['min'],data=k)\n",
    "plt.xticks(rotation=90);\n"
   ]
  },
  {
   "cell_type": "code",
   "execution_count": 59,
   "id": "e3e798ce",
   "metadata": {},
   "outputs": [
    {
     "data": {
      "image/png": "[encoded data removed]",
      "text/plain": [
       "<Figure size 432x288 with 1 Axes>"
      ]
     },
     "metadata": {
      "needs_background": "light"
     },
     "output_type": "display_data"
    }
   ],
   "source": [
    "sns.barplot(x=k['Airline'],y=k['max'],data=k)\n",
    "plt.xticks(rotation=90);"
   ]
  },
  {
   "cell_type": "code",
   "execution_count": 60,
   "id": "7bff9e1d",
   "metadata": {},
   "outputs": [
    {
     "data": {
      "text/plain": [
       "<Figure size 576x648 with 0 Axes>"
      ]
     },
     "execution_count": 60,
     "metadata": {},
     "output_type": "execute_result"
    },
    {
     "data": {
      "image/png": "[encoded data removed]",
      "text/plain": [
       "<Figure size 432x288 with 1 Axes>"
      ]
     },
     "metadata": {
      "needs_background": "light"
     },
     "output_type": "display_data"
    },
    {
     "data": {
      "text/plain": [
       "<Figure size 576x648 with 0 Axes>"
      ]
     },
     "metadata": {},
     "output_type": "display_data"
    }
   ],
   "source": [
    "sns.boxplot(x='Source',y='Price',data=df)\n",
    "plt.figure(figsize=(8,9))"
   ]
  },
  {
   "cell_type": "code",
   "execution_count": 61,
   "id": "5e2b4c7c",
   "metadata": {},
   "outputs": [
    {
     "data": {
      "text/plain": [
       "<AxesSubplot:xlabel='Destination', ylabel='Price'>"
      ]
     },
     "execution_count": 61,
     "metadata": {},
     "output_type": "execute_result"
    },
    {
     "data": {
      "image/png": "[encoded data removed]",
      "text/plain": [
       "<Figure size 432x288 with 1 Axes>"
      ]
     },
     "metadata": {
      "needs_background": "light"
     },
     "output_type": "display_data"
    }
   ],
   "source": [
    "sns.boxplot(x='Destination',y='Price',data=df)"
   ]
  },
  {
   "cell_type": "code",
   "execution_count": 62,
   "id": "c8b62d50",
   "metadata": {},
   "outputs": [
    {
     "name": "stderr",
     "output_type": "stream",
     "text": [
      "C:\\ProgramData\\Anaconda3\\lib\\site-packages\\seaborn\\_decorators.py:36: FutureWarning: Pass the following variable as a keyword arg: x. From version 0.12, the only valid positional argument will be `data`, and passing other arguments without an explicit keyword will result in an error or misinterpretation.\n",
      "  warnings.warn(\n"
     ]
    },
    {
     "data": {
      "text/plain": [
       "<AxesSubplot:xlabel='month_of_journey', ylabel='count'>"
      ]
     },
     "execution_count": 62,
     "metadata": {},
     "output_type": "execute_result"
    },
    {
     "data": {
      "image/png": "[encoded data removed]",
      "text/plain": [
       "<Figure size 432x288 with 1 Axes>"
      ]
     },
     "metadata": {
      "needs_background": "light"
     },
     "output_type": "display_data"
    }
   ],
   "source": [
    "# june was the peak season\n",
    "sns.countplot(df['month_of_journey'],data=df)"
   ]
  },
  {
   "cell_type": "code",
   "execution_count": 63,
   "id": "10d554f8",
   "metadata": {},
   "outputs": [
    {
     "data": {
      "text/plain": [
       "<AxesSubplot:xlabel='month_of_journey', ylabel='Price'>"
      ]
     },
     "execution_count": 63,
     "metadata": {},
     "output_type": "execute_result"
    },
    {
     "data": {
      "image/png": "[encoded data removed]",
      "text/plain": [
       "<Figure size 432x288 with 1 Axes>"
      ]
     },
     "metadata": {
      "needs_background": "light"
     },
     "output_type": "display_data"
    }
   ],
   "source": [
    "sns.barplot(x='month_of_journey',y='Price',data=df,estimator=sum)"
   ]
  },
  {
   "cell_type": "code",
   "execution_count": 64,
   "id": "d52d2ac8",
   "metadata": {},
   "outputs": [],
   "source": [
    "# Which flights take of in which month"
   ]
  },
  {
   "cell_type": "code",
   "execution_count": 65,
   "id": "e9c5bfc1",
   "metadata": {},
   "outputs": [
    {
     "data": {
      "image/png": "[encoded data removed]",
      "text/plain": [
       "<Figure size 432x288 with 1 Axes>"
      ]
     },
     "metadata": {
      "needs_background": "light"
     },
     "output_type": "display_data"
    }
   ],
   "source": [
    "sns.scatterplot(x='Airline',y='month_of_journey',data=df)\n",
    "plt.xticks(rotation=90);\n",
    "plt.yticks([1,2,3,4,5,6,7,8,9,10,11,12]);\n"
   ]
  },
  {
   "cell_type": "code",
   "execution_count": 66,
   "id": "5bef1e38",
   "metadata": {},
   "outputs": [],
   "source": [
    "# how many flights take off in each month"
   ]
  },
  {
   "cell_type": "code",
   "execution_count": 67,
   "id": "40a9be40",
   "metadata": {},
   "outputs": [
    {
     "data": {
      "text/plain": [
       "month_of_journey  Airline          \n",
       "1                 Jet Airways          430\n",
       "                  Air India            197\n",
       "                  IndiGo               184\n",
       "                  SpiceJet              76\n",
       "                  Multiple carriers     75\n",
       "                                      ... \n",
       "12                Multiple carriers     65\n",
       "                  SpiceJet              54\n",
       "                  Vistara               52\n",
       "                  Air Asia              29\n",
       "                  GoAir                 12\n",
       "Name: Airline, Length: 64, dtype: int64"
      ]
     },
     "execution_count": 67,
     "metadata": {},
     "output_type": "execute_result"
    }
   ],
   "source": [
    "df.groupby('month_of_journey')['Airline'].value_counts()"
   ]
  },
  {
   "cell_type": "code",
   "execution_count": 68,
   "id": "a1436d4b",
   "metadata": {},
   "outputs": [],
   "source": [
    "# How price varies with month"
   ]
  },
  {
   "cell_type": "code",
   "execution_count": 69,
   "id": "b8b24149",
   "metadata": {},
   "outputs": [
    {
     "data": {
      "text/plain": [
       "<AxesSubplot:xlabel='month_of_journey', ylabel='Price'>"
      ]
     },
     "execution_count": 69,
     "metadata": {},
     "output_type": "execute_result"
    },
    {
     "data": {
      "image/png": "[encoded data removed]",
      "text/plain": [
       "<Figure size 432x288 with 1 Axes>"
      ]
     },
     "metadata": {
      "needs_background": "light"
     },
     "output_type": "display_data"
    }
   ],
   "source": [
    "sns.boxplot(x='month_of_journey',y='Price',data=df)"
   ]
  },
  {
   "cell_type": "code",
   "execution_count": 70,
   "id": "087bdf9a",
   "metadata": {},
   "outputs": [
    {
     "name": "stderr",
     "output_type": "stream",
     "text": [
      "C:\\ProgramData\\Anaconda3\\lib\\site-packages\\seaborn\\_decorators.py:36: FutureWarning: Pass the following variable as a keyword arg: x. From version 0.12, the only valid positional argument will be `data`, and passing other arguments without an explicit keyword will result in an error or misinterpretation.\n",
      "  warnings.warn(\n"
     ]
    },
    {
     "data": {
      "text/plain": [
       "<AxesSubplot:xlabel='day_of_journey', ylabel='count'>"
      ]
     },
     "execution_count": 70,
     "metadata": {},
     "output_type": "execute_result"
    },
    {
     "data": {
      "image/png": "[encoded data removed]",
      "text/plain": [
       "<Figure size 432x288 with 1 Axes>"
      ]
     },
     "metadata": {
      "needs_background": "light"
     },
     "output_type": "display_data"
    }
   ],
   "source": [
    "sns.countplot(df['day_of_journey'],data=df)"
   ]
  },
  {
   "cell_type": "code",
   "execution_count": 71,
   "id": "e3cf42ac",
   "metadata": {},
   "outputs": [
    {
     "name": "stderr",
     "output_type": "stream",
     "text": [
      "C:\\ProgramData\\Anaconda3\\lib\\site-packages\\seaborn\\_decorators.py:36: FutureWarning: Pass the following variables as keyword args: x, y. From version 0.12, the only valid positional argument will be `data`, and passing other arguments without an explicit keyword will result in an error or misinterpretation.\n",
      "  warnings.warn(\n"
     ]
    },
    {
     "data": {
      "text/plain": [
       "<AxesSubplot:xlabel='day_of_journey', ylabel='Price'>"
      ]
     },
     "execution_count": 71,
     "metadata": {},
     "output_type": "execute_result"
    },
    {
     "data": {
      "image/png": "[encoded data removed]",
      "text/plain": [
       "<Figure size 432x288 with 1 Axes>"
      ]
     },
     "metadata": {
      "needs_background": "light"
     },
     "output_type": "display_data"
    }
   ],
   "source": [
    "sns.barplot(df['day_of_journey'],df['Price'],data=df,estimator=sum)"
   ]
  },
  {
   "cell_type": "code",
   "execution_count": 72,
   "id": "14198188",
   "metadata": {},
   "outputs": [
    {
     "name": "stderr",
     "output_type": "stream",
     "text": [
      "C:\\ProgramData\\Anaconda3\\lib\\site-packages\\seaborn\\_decorators.py:36: FutureWarning: Pass the following variables as keyword args: x, y. From version 0.12, the only valid positional argument will be `data`, and passing other arguments without an explicit keyword will result in an error or misinterpretation.\n",
      "  warnings.warn(\n"
     ]
    },
    {
     "data": {
      "text/plain": [
       "<AxesSubplot:xlabel='day_of_journey', ylabel='Price'>"
      ]
     },
     "execution_count": 72,
     "metadata": {},
     "output_type": "execute_result"
    },
    {
     "data": {
      "image/png": "[encoded data removed]",
      "text/plain": [
       "<Figure size 432x288 with 1 Axes>"
      ]
     },
     "metadata": {
      "needs_background": "light"
     },
     "output_type": "display_data"
    }
   ],
   "source": [
    "sns.boxplot(df['day_of_journey'],df['Price'],data=df)"
   ]
  },
  {
   "cell_type": "code",
   "execution_count": 73,
   "id": "00d26b2f",
   "metadata": {},
   "outputs": [],
   "source": [
    "# wht was the peak deprture time"
   ]
  },
  {
   "cell_type": "code",
   "execution_count": 74,
   "id": "93450cb0",
   "metadata": {},
   "outputs": [
    {
     "data": {
      "text/plain": [
       "9     916\n",
       "7     867\n",
       "8     697\n",
       "17    695\n",
       "6     687\n",
       "20    651\n",
       "5     629\n",
       "11    580\n",
       "19    567\n",
       "10    536\n",
       "14    523\n",
       "21    492\n",
       "16    472\n",
       "18    444\n",
       "13    417\n",
       "22    387\n",
       "15    319\n",
       "2     194\n",
       "12    178\n",
       "4     170\n",
       "23    161\n",
       "0      40\n",
       "1      37\n",
       "3      24\n",
       "Name: Dep_hour, dtype: int64"
      ]
     },
     "execution_count": 74,
     "metadata": {},
     "output_type": "execute_result"
    }
   ],
   "source": [
    "df['Dep_hour'].value_counts()"
   ]
  },
  {
   "cell_type": "code",
   "execution_count": 75,
   "id": "b4d53270",
   "metadata": {},
   "outputs": [],
   "source": [
    "# Find out the each departure "
   ]
  },
  {
   "cell_type": "code",
   "execution_count": null,
   "id": "1201682e",
   "metadata": {},
   "outputs": [],
   "source": []
  },
  {
   "cell_type": "code",
   "execution_count": 76,
   "id": "97b54b0a",
   "metadata": {},
   "outputs": [
    {
     "data": {
      "text/plain": [
       "Airline                  Dep_hour\n",
       "Air Asia                 7           53\n",
       "                         22          39\n",
       "                         19          37\n",
       "                         16          33\n",
       "                         23          33\n",
       "                                     ..\n",
       "Vistara                  10           1\n",
       "                         12           1\n",
       "Vistara Premium economy  7            1\n",
       "                         11           1\n",
       "                         16           1\n",
       "Name: Dep_hour, Length: 149, dtype: int64"
      ]
     },
     "execution_count": 76,
     "metadata": {},
     "output_type": "execute_result"
    }
   ],
   "source": [
    "df.groupby('Airline')['Dep_hour'].value_counts()"
   ]
  },
  {
   "cell_type": "code",
   "execution_count": 77,
   "id": "3736c071",
   "metadata": {},
   "outputs": [
    {
     "data": {
      "text/plain": [
       "Airline                  Source    Dep_hour\n",
       "Air Asia                 Banglore  23          33\n",
       "                                   11          24\n",
       "                                   4           23\n",
       "                                   5            9\n",
       "                         Delhi     16          33\n",
       "                                               ..\n",
       "Vistara                  Mumbai    14           1\n",
       "                                   19           1\n",
       "Vistara Premium economy  Banglore  11           1\n",
       "                                   16           1\n",
       "                         Chennai   7            1\n",
       "Name: Dep_hour, Length: 308, dtype: int64"
      ]
     },
     "execution_count": 77,
     "metadata": {},
     "output_type": "execute_result"
    }
   ],
   "source": [
    "df.groupby(['Airline','Source'])['Dep_hour'].value_counts()"
   ]
  },
  {
   "cell_type": "code",
   "execution_count": 78,
   "id": "fa93849a",
   "metadata": {},
   "outputs": [
    {
     "data": {
      "text/plain": [
       "Airline                  arrival_hour\n",
       "Air Asia                 22              63\n",
       "                         7               52\n",
       "                         13              36\n",
       "                         2               33\n",
       "                         1               30\n",
       "                                         ..\n",
       "Vistara                  16               5\n",
       "                         21               3\n",
       "Vistara Premium economy  9                1\n",
       "                         14               1\n",
       "                         18               1\n",
       "Name: arrival_hour, Length: 144, dtype: int64"
      ]
     },
     "execution_count": 78,
     "metadata": {},
     "output_type": "execute_result"
    }
   ],
   "source": [
    "df.groupby('Airline')['arrival_hour'].value_counts()"
   ]
  },
  {
   "cell_type": "code",
   "execution_count": 79,
   "id": "c77cf84e",
   "metadata": {},
   "outputs": [
    {
     "data": {
      "text/plain": [
       "Airline                  Destination  arrival_hour\n",
       "Air Asia                 Banglore     22              34\n",
       "                                      1               30\n",
       "                                      12              30\n",
       "                                      23              24\n",
       "                                      10              21\n",
       "                                                      ..\n",
       "Vistara                  Kolkata      20              18\n",
       "                                      10               1\n",
       "Vistara Premium economy  Delhi        14               1\n",
       "                                      18               1\n",
       "                         Kolkata      9                1\n",
       "Name: arrival_hour, Length: 279, dtype: int64"
      ]
     },
     "execution_count": 79,
     "metadata": {},
     "output_type": "execute_result"
    }
   ],
   "source": [
    "df.groupby(['Airline','Destination'])['arrival_hour'].value_counts()"
   ]
  },
  {
   "cell_type": "code",
   "execution_count": null,
   "id": "528b7458",
   "metadata": {},
   "outputs": [],
   "source": []
  }
 ],
 "metadata": {
  "kernelspec": {
   "display_name": "Python 3 (ipykernel)",
   "language": "python",
   "name": "python3"
  },
  "language_info": {
   "codemirror_mode": {
    "name": "ipython",
    "version": 3
   },
   "file_extension": ".py",
   "mimetype": "text/x-python",
   "name": "python",
   "nbconvert_exporter": "python",
   "pygments_lexer": "ipython3",
   "version": "3.9.12"
  }
 },
 "nbformat": 4,
 "nbformat_minor": 5
}
